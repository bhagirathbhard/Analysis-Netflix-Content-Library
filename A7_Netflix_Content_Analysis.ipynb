{
  "cells": [
    {
      "cell_type": "markdown",
      "metadata": {
        "id": "view-in-github",
        "colab_type": "text"
      },
      "source": [
        "<a href=\"https://colab.research.google.com/github/bhagirathbhard/Netflix-Content-Analysis/blob/nightly/A7_Netflix_Content_Analysis.ipynb\" target=\"_parent\"><img src=\"https://colab.research.google.com/assets/colab-badge.svg\" alt=\"Open In Colab\"/></a>"
      ]
    },
    {
      "cell_type": "markdown",
      "metadata": {
        "id": "2cfbQJupsfQu"
      },
      "source": [
        "# **<a id=\"Content\" style=\"color:#023e8a;\">Table of Content</a>**\n",
        "\n",
        "* [**<span style=\"color:#023e8a;\">1. Project Overview</span>**](#Project-Overview) \n",
        "* [**<span style=\"color:#023e8a;\">2. Data Sources</span>**](#Data-Sources)\n",
        "* [**<span style=\"color:#023e8a;\">3. Data Import and EDA</span>**](#EDA)\n",
        "* [**<span style=\"color:#023e8a;\">4. Data Cleanup</span>**](#Data-Cleanup)\n",
        "* [**<span style=\"color:#023e8a;\">5. Key Questions Answered</span>**](#Questions)\n",
        "* [**<span style=\"color:#023e8a;\">6. Conclusion</span>**](#Conclusion)\n",
        "* [**<span style=\"color:#023e8a;\">7. References</span>**](#References)"
      ]
    },
    {
      "cell_type": "markdown",
      "metadata": {
        "id": "cmEbQSIns7T1"
      },
      "source": [
        "# **<span style=\"color:#023e8a;font-size:200%\"><center>Analysis of Netflix Content Library</center></span>**\n",
        "## **<center><span style=\"color:#FEF1FE;background-color:#023e8a;border-radius: 5px;padding: 5px\">By: Bhagirath Bhardwaj, Jinisha Kande, Paulin Jesintha Mariadoss, Renata Halim, Sohil Jain, and Sonal Kaur</span></center>**"
      ]
    },
    {
      "cell_type": "markdown",
      "metadata": {
        "id": "zs04rsUBthIC"
      },
      "source": [
        "# **<span id=\"Project-Overview\" style=\"color:#023e8a;\">Project and Dataset Overview</span>**\n",
        "\n",
        "**Netflix Content Analysis**\n",
        "\n",
        "\n",
        "Netflix’s content library and their recommendations engine play a big role in what content consumed by people worldwide. Research from Netflix shares that over 80% of the content watched on their platform came from\n",
        "Their recommendations engine. As Netflix has over 100 million users worldwide, it becomes crucial for Netflix to implement a strong data-driven algorithm to recommend customized movies and tv shows to its audience.\n",
        "\n",
        "The following project seeks to -\n",
        "\n",
        "*   Perform Exploratory Data Analysis, Data cleanup on the dataset using Python.\n",
        "*   Analyze variables in our dataset such as actors, genres, directors, ratings etc.\n",
        "*  Find answers to key questions and trends around Netflix’s investment into various kinds of content media.\n",
        "\n",
        "\n",
        "**Motivation:** The project is interested in studying the changes in Netflix’s content strategy over the years. We are curious to know if or to what extent these changes resulted from cultural and target audience changes in Netflix's subscriber base."
      ]
    },
    {
      "cell_type": "markdown",
      "metadata": {
        "id": "Ym__U0Wetk8d"
      },
      "source": [
        "# **<span id=\"Data-Sources\" style=\"color:#023e8a;\">Data Sources</span>**\n",
        "\n",
        "*   [Netflix-Shows by Shivam Bansal](https://www.kaggle.com/datasets/shivamb/netflix-shows)\n",
        "*  [Clarification of Source of dataset by Author](https://twitter.com/shivamshaz/status/1452642649442172931?s=20&t=OSh8EM8VNMZhmXSi6aBgtA)\n",
        "> “mix of scraping, api calls and manual validation.”\n",
        "\n",
        "* [Scraped Data - Netflix Original Programming](https://en.wikipedia.org/wiki/List_of_ended_Netflix_original_programming)"
      ]
    },
    {
      "cell_type": "markdown",
      "metadata": {
        "id": "1f0Uut1htyjp"
      },
      "source": [
        "# **<span id=\"Data-Cleanup\" style=\"color:#023e8a;\">Data Import and EDA</span>**\n"
      ]
    },
    {
      "cell_type": "code",
      "execution_count": null,
      "metadata": {
        "id": "OHScLFaa2N6W"
      },
      "outputs": [],
      "source": [
        "#Importing Libraries\n",
        "from google.colab import drive\n",
        "import os\n",
        "import pandas as pd\n",
        "import matplotlib.pyplot as plt\n",
        "import seaborn as sns"
      ]
    },
    {
      "cell_type": "code",
      "execution_count": null,
      "metadata": {
        "colab": {
          "base_uri": "https://localhost:8080/"
        },
        "id": "OaZZtkyA0hiN",
        "outputId": "ac7e3047-8c7f-4ccb-84b9-1d3338b0f7ed"
      },
      "outputs": [
        {
          "output_type": "stream",
          "name": "stdout",
          "text": [
            "Mounted at /content/gdrive/\n"
          ]
        }
      ],
      "source": [
        "drive.mount('/content/gdrive/', force_remount=True)"
      ]
    },
    {
      "cell_type": "code",
      "execution_count": null,
      "metadata": {
        "id": "AjtIoX0a04xK"
      },
      "outputs": [],
      "source": [
        "!cd gdrive/Shareddrives/BA780/.kaggle/"
      ]
    },
    {
      "cell_type": "code",
      "execution_count": null,
      "metadata": {
        "id": "pj8PXDTm0DMW"
      },
      "outputs": [],
      "source": [
        "os.environ['KAGGLE_CONFIG_DIR'] = \"gdrive/Shareddrives/BA780/.kaggle/\""
      ]
    },
    {
      "cell_type": "code",
      "execution_count": null,
      "metadata": {
        "colab": {
          "base_uri": "https://localhost:8080/"
        },
        "id": "sg8JO32gxg0J",
        "outputId": "33e66777-5e31-4899-d6ad-f0c603b84ddc"
      },
      "outputs": [
        {
          "output_type": "stream",
          "name": "stdout",
          "text": [
            "Looking in indexes: https://pypi.org/simple, https://us-python.pkg.dev/colab-wheels/public/simple/\n",
            "Requirement already satisfied: kaggle in /usr/local/lib/python3.7/dist-packages (1.5.12)\n",
            "Requirement already satisfied: requests in /usr/local/lib/python3.7/dist-packages (from kaggle) (2.23.0)\n",
            "Requirement already satisfied: tqdm in /usr/local/lib/python3.7/dist-packages (from kaggle) (4.64.1)\n",
            "Requirement already satisfied: python-slugify in /usr/local/lib/python3.7/dist-packages (from kaggle) (6.1.2)\n",
            "Requirement already satisfied: certifi in /usr/local/lib/python3.7/dist-packages (from kaggle) (2022.9.24)\n",
            "Requirement already satisfied: six>=1.10 in /usr/local/lib/python3.7/dist-packages (from kaggle) (1.15.0)\n",
            "Requirement already satisfied: python-dateutil in /usr/local/lib/python3.7/dist-packages (from kaggle) (2.8.2)\n",
            "Requirement already satisfied: urllib3 in /usr/local/lib/python3.7/dist-packages (from kaggle) (1.24.3)\n",
            "Requirement already satisfied: text-unidecode>=1.3 in /usr/local/lib/python3.7/dist-packages (from python-slugify->kaggle) (1.3)\n",
            "Requirement already satisfied: idna<3,>=2.5 in /usr/local/lib/python3.7/dist-packages (from requests->kaggle) (2.10)\n",
            "Requirement already satisfied: chardet<4,>=3.0.2 in /usr/local/lib/python3.7/dist-packages (from requests->kaggle) (3.0.4)\n"
          ]
        }
      ],
      "source": [
        "! pip install kaggle"
      ]
    },
    {
      "cell_type": "code",
      "execution_count": null,
      "metadata": {
        "id": "F6YxWlhByocf"
      },
      "outputs": [],
      "source": [
        "! chmod 600 gdrive/Shareddrives/BA780/.kaggle/kaggle.json"
      ]
    },
    {
      "cell_type": "code",
      "execution_count": null,
      "metadata": {
        "colab": {
          "base_uri": "https://localhost:8080/"
        },
        "id": "31s7LEwszQxN",
        "outputId": "b851c235-62f1-4482-85c9-a90d45ab25cb"
      },
      "outputs": [
        {
          "output_type": "stream",
          "name": "stdout",
          "text": [
            "netflix-shows.zip: Skipping, found more recently modified local copy (use --force to force download)\n"
          ]
        }
      ],
      "source": [
        "!kaggle datasets download -d shivamb/netflix-shows"
      ]
    },
    {
      "cell_type": "code",
      "execution_count": null,
      "metadata": {
        "colab": {
          "base_uri": "https://localhost:8080/"
        },
        "id": "att_sA0C2Gay",
        "outputId": "b3c95039-12fa-4cf4-fd04-7c12593f047c"
      },
      "outputs": [
        {
          "output_type": "stream",
          "name": "stdout",
          "text": [
            "Archive:  netflix-shows.zip\n",
            "replace netflix_titles.csv? [y]es, [n]o, [A]ll, [N]one, [r]ename: n\n"
          ]
        }
      ],
      "source": [
        "!unzip netflix-shows.zip "
      ]
    },
    {
      "cell_type": "code",
      "execution_count": null,
      "metadata": {
        "colab": {
          "base_uri": "https://localhost:8080/",
          "height": 337
        },
        "id": "2XSzwGYD2MR6",
        "outputId": "276b6cfc-ed5f-4653-8617-4f76ab21ee37"
      },
      "outputs": [
        {
          "output_type": "execute_result",
          "data": {
            "text/plain": [
              "  show_id     type                  title         director  \\\n",
              "0      s1    Movie   Dick Johnson Is Dead  Kirsten Johnson   \n",
              "1      s2  TV Show          Blood & Water              NaN   \n",
              "2      s3  TV Show              Ganglands  Julien Leclercq   \n",
              "3      s4  TV Show  Jailbirds New Orleans              NaN   \n",
              "4      s5  TV Show           Kota Factory              NaN   \n",
              "\n",
              "                                                cast        country  \\\n",
              "0                                                NaN  United States   \n",
              "1  Ama Qamata, Khosi Ngema, Gail Mabalane, Thaban...   South Africa   \n",
              "2  Sami Bouajila, Tracy Gotoas, Samuel Jouy, Nabi...            NaN   \n",
              "3                                                NaN            NaN   \n",
              "4  Mayur More, Jitendra Kumar, Ranjan Raj, Alam K...          India   \n",
              "\n",
              "           date_added  release_year rating   duration  \\\n",
              "0  September 25, 2021          2020  PG-13     90 min   \n",
              "1  September 24, 2021          2021  TV-MA  2 Seasons   \n",
              "2  September 24, 2021          2021  TV-MA   1 Season   \n",
              "3  September 24, 2021          2021  TV-MA   1 Season   \n",
              "4  September 24, 2021          2021  TV-MA  2 Seasons   \n",
              "\n",
              "                                           listed_in  \\\n",
              "0                                      Documentaries   \n",
              "1    International TV Shows, TV Dramas, TV Mysteries   \n",
              "2  Crime TV Shows, International TV Shows, TV Act...   \n",
              "3                             Docuseries, Reality TV   \n",
              "4  International TV Shows, Romantic TV Shows, TV ...   \n",
              "\n",
              "                                         description  \n",
              "0  As her father nears the end of his life, filmm...  \n",
              "1  After crossing paths at a party, a Cape Town t...  \n",
              "2  To protect his family from a powerful drug lor...  \n",
              "3  Feuds, flirtations and toilet talk go down amo...  \n",
              "4  In a city of coaching centers known to train I...  "
            ],
            "text/html": [
              "\n",
              "  <div id=\"df-23013378-6e04-4235-aa7a-52ad8bc68e2c\">\n",
              "    <div class=\"colab-df-container\">\n",
              "      <div>\n",
              "<style scoped>\n",
              "    .dataframe tbody tr th:only-of-type {\n",
              "        vertical-align: middle;\n",
              "    }\n",
              "\n",
              "    .dataframe tbody tr th {\n",
              "        vertical-align: top;\n",
              "    }\n",
              "\n",
              "    .dataframe thead th {\n",
              "        text-align: right;\n",
              "    }\n",
              "</style>\n",
              "<table border=\"1\" class=\"dataframe\">\n",
              "  <thead>\n",
              "    <tr style=\"text-align: right;\">\n",
              "      <th></th>\n",
              "      <th>show_id</th>\n",
              "      <th>type</th>\n",
              "      <th>title</th>\n",
              "      <th>director</th>\n",
              "      <th>cast</th>\n",
              "      <th>country</th>\n",
              "      <th>date_added</th>\n",
              "      <th>release_year</th>\n",
              "      <th>rating</th>\n",
              "      <th>duration</th>\n",
              "      <th>listed_in</th>\n",
              "      <th>description</th>\n",
              "    </tr>\n",
              "  </thead>\n",
              "  <tbody>\n",
              "    <tr>\n",
              "      <th>0</th>\n",
              "      <td>s1</td>\n",
              "      <td>Movie</td>\n",
              "      <td>Dick Johnson Is Dead</td>\n",
              "      <td>Kirsten Johnson</td>\n",
              "      <td>NaN</td>\n",
              "      <td>United States</td>\n",
              "      <td>September 25, 2021</td>\n",
              "      <td>2020</td>\n",
              "      <td>PG-13</td>\n",
              "      <td>90 min</td>\n",
              "      <td>Documentaries</td>\n",
              "      <td>As her father nears the end of his life, filmm...</td>\n",
              "    </tr>\n",
              "    <tr>\n",
              "      <th>1</th>\n",
              "      <td>s2</td>\n",
              "      <td>TV Show</td>\n",
              "      <td>Blood &amp; Water</td>\n",
              "      <td>NaN</td>\n",
              "      <td>Ama Qamata, Khosi Ngema, Gail Mabalane, Thaban...</td>\n",
              "      <td>South Africa</td>\n",
              "      <td>September 24, 2021</td>\n",
              "      <td>2021</td>\n",
              "      <td>TV-MA</td>\n",
              "      <td>2 Seasons</td>\n",
              "      <td>International TV Shows, TV Dramas, TV Mysteries</td>\n",
              "      <td>After crossing paths at a party, a Cape Town t...</td>\n",
              "    </tr>\n",
              "    <tr>\n",
              "      <th>2</th>\n",
              "      <td>s3</td>\n",
              "      <td>TV Show</td>\n",
              "      <td>Ganglands</td>\n",
              "      <td>Julien Leclercq</td>\n",
              "      <td>Sami Bouajila, Tracy Gotoas, Samuel Jouy, Nabi...</td>\n",
              "      <td>NaN</td>\n",
              "      <td>September 24, 2021</td>\n",
              "      <td>2021</td>\n",
              "      <td>TV-MA</td>\n",
              "      <td>1 Season</td>\n",
              "      <td>Crime TV Shows, International TV Shows, TV Act...</td>\n",
              "      <td>To protect his family from a powerful drug lor...</td>\n",
              "    </tr>\n",
              "    <tr>\n",
              "      <th>3</th>\n",
              "      <td>s4</td>\n",
              "      <td>TV Show</td>\n",
              "      <td>Jailbirds New Orleans</td>\n",
              "      <td>NaN</td>\n",
              "      <td>NaN</td>\n",
              "      <td>NaN</td>\n",
              "      <td>September 24, 2021</td>\n",
              "      <td>2021</td>\n",
              "      <td>TV-MA</td>\n",
              "      <td>1 Season</td>\n",
              "      <td>Docuseries, Reality TV</td>\n",
              "      <td>Feuds, flirtations and toilet talk go down amo...</td>\n",
              "    </tr>\n",
              "    <tr>\n",
              "      <th>4</th>\n",
              "      <td>s5</td>\n",
              "      <td>TV Show</td>\n",
              "      <td>Kota Factory</td>\n",
              "      <td>NaN</td>\n",
              "      <td>Mayur More, Jitendra Kumar, Ranjan Raj, Alam K...</td>\n",
              "      <td>India</td>\n",
              "      <td>September 24, 2021</td>\n",
              "      <td>2021</td>\n",
              "      <td>TV-MA</td>\n",
              "      <td>2 Seasons</td>\n",
              "      <td>International TV Shows, Romantic TV Shows, TV ...</td>\n",
              "      <td>In a city of coaching centers known to train I...</td>\n",
              "    </tr>\n",
              "  </tbody>\n",
              "</table>\n",
              "</div>\n",
              "      <button class=\"colab-df-convert\" onclick=\"convertToInteractive('df-23013378-6e04-4235-aa7a-52ad8bc68e2c')\"\n",
              "              title=\"Convert this dataframe to an interactive table.\"\n",
              "              style=\"display:none;\">\n",
              "        \n",
              "  <svg xmlns=\"http://www.w3.org/2000/svg\" height=\"24px\"viewBox=\"0 0 24 24\"\n",
              "       width=\"24px\">\n",
              "    <path d=\"M0 0h24v24H0V0z\" fill=\"none\"/>\n",
              "    <path d=\"M18.56 5.44l.94 2.06.94-2.06 2.06-.94-2.06-.94-.94-2.06-.94 2.06-2.06.94zm-11 1L8.5 8.5l.94-2.06 2.06-.94-2.06-.94L8.5 2.5l-.94 2.06-2.06.94zm10 10l.94 2.06.94-2.06 2.06-.94-2.06-.94-.94-2.06-.94 2.06-2.06.94z\"/><path d=\"M17.41 7.96l-1.37-1.37c-.4-.4-.92-.59-1.43-.59-.52 0-1.04.2-1.43.59L10.3 9.45l-7.72 7.72c-.78.78-.78 2.05 0 2.83L4 21.41c.39.39.9.59 1.41.59.51 0 1.02-.2 1.41-.59l7.78-7.78 2.81-2.81c.8-.78.8-2.07 0-2.86zM5.41 20L4 18.59l7.72-7.72 1.47 1.35L5.41 20z\"/>\n",
              "  </svg>\n",
              "      </button>\n",
              "      \n",
              "  <style>\n",
              "    .colab-df-container {\n",
              "      display:flex;\n",
              "      flex-wrap:wrap;\n",
              "      gap: 12px;\n",
              "    }\n",
              "\n",
              "    .colab-df-convert {\n",
              "      background-color: #E8F0FE;\n",
              "      border: none;\n",
              "      border-radius: 50%;\n",
              "      cursor: pointer;\n",
              "      display: none;\n",
              "      fill: #1967D2;\n",
              "      height: 32px;\n",
              "      padding: 0 0 0 0;\n",
              "      width: 32px;\n",
              "    }\n",
              "\n",
              "    .colab-df-convert:hover {\n",
              "      background-color: #E2EBFA;\n",
              "      box-shadow: 0px 1px 2px rgba(60, 64, 67, 0.3), 0px 1px 3px 1px rgba(60, 64, 67, 0.15);\n",
              "      fill: #174EA6;\n",
              "    }\n",
              "\n",
              "    [theme=dark] .colab-df-convert {\n",
              "      background-color: #3B4455;\n",
              "      fill: #D2E3FC;\n",
              "    }\n",
              "\n",
              "    [theme=dark] .colab-df-convert:hover {\n",
              "      background-color: #434B5C;\n",
              "      box-shadow: 0px 1px 3px 1px rgba(0, 0, 0, 0.15);\n",
              "      filter: drop-shadow(0px 1px 2px rgba(0, 0, 0, 0.3));\n",
              "      fill: #FFFFFF;\n",
              "    }\n",
              "  </style>\n",
              "\n",
              "      <script>\n",
              "        const buttonEl =\n",
              "          document.querySelector('#df-23013378-6e04-4235-aa7a-52ad8bc68e2c button.colab-df-convert');\n",
              "        buttonEl.style.display =\n",
              "          google.colab.kernel.accessAllowed ? 'block' : 'none';\n",
              "\n",
              "        async function convertToInteractive(key) {\n",
              "          const element = document.querySelector('#df-23013378-6e04-4235-aa7a-52ad8bc68e2c');\n",
              "          const dataTable =\n",
              "            await google.colab.kernel.invokeFunction('convertToInteractive',\n",
              "                                                     [key], {});\n",
              "          if (!dataTable) return;\n",
              "\n",
              "          const docLinkHtml = 'Like what you see? Visit the ' +\n",
              "            '<a target=\"_blank\" href=https://colab.research.google.com/notebooks/data_table.ipynb>data table notebook</a>'\n",
              "            + ' to learn more about interactive tables.';\n",
              "          element.innerHTML = '';\n",
              "          dataTable['output_type'] = 'display_data';\n",
              "          await google.colab.output.renderOutput(dataTable, element);\n",
              "          const docLink = document.createElement('div');\n",
              "          docLink.innerHTML = docLinkHtml;\n",
              "          element.appendChild(docLink);\n",
              "        }\n",
              "      </script>\n",
              "    </div>\n",
              "  </div>\n",
              "  "
            ]
          },
          "metadata": {},
          "execution_count": 58
        }
      ],
      "source": [
        "#netflix_ds = pd.read_csv('/Users/bhagirathbhardwaj/Library/CloudStorage/GoogleDrive-bbhardw@bu.edu/Shared drives/BA780/netflix_titles.csv')\n",
        "netflix_ds = pd.read_csv('netflix_titles.csv')\n",
        "netflix_ds.head()"
      ]
    },
    {
      "cell_type": "code",
      "execution_count": null,
      "metadata": {
        "colab": {
          "base_uri": "https://localhost:8080/"
        },
        "id": "NmaCFDGv5CDw",
        "outputId": "bed5c094-d2f9-433a-95ee-fd476ab66654"
      },
      "outputs": [
        {
          "output_type": "execute_result",
          "data": {
            "text/plain": [
              "(8807, 12)"
            ]
          },
          "metadata": {},
          "execution_count": 59
        }
      ],
      "source": [
        "#Check dataset shape\n",
        "netflix_ds.shape"
      ]
    },
    {
      "cell_type": "code",
      "execution_count": null,
      "metadata": {
        "colab": {
          "base_uri": "https://localhost:8080/"
        },
        "id": "1SMdBzZz4qOb",
        "outputId": "d36cc125-17a1-4695-d7eb-45f170f64607"
      },
      "outputs": [
        {
          "output_type": "stream",
          "name": "stdout",
          "text": [
            "<class 'pandas.core.frame.DataFrame'>\n",
            "RangeIndex: 8807 entries, 0 to 8806\n",
            "Data columns (total 12 columns):\n",
            " #   Column        Non-Null Count  Dtype \n",
            "---  ------        --------------  ----- \n",
            " 0   show_id       8807 non-null   object\n",
            " 1   type          8807 non-null   object\n",
            " 2   title         8807 non-null   object\n",
            " 3   director      6173 non-null   object\n",
            " 4   cast          7982 non-null   object\n",
            " 5   country       7976 non-null   object\n",
            " 6   date_added    8797 non-null   object\n",
            " 7   release_year  8807 non-null   int64 \n",
            " 8   rating        8803 non-null   object\n",
            " 9   duration      8804 non-null   object\n",
            " 10  listed_in     8807 non-null   object\n",
            " 11  description   8807 non-null   object\n",
            "dtypes: int64(1), object(11)\n",
            "memory usage: 825.8+ KB\n"
          ]
        }
      ],
      "source": [
        "#Check Dataset info\n",
        "netflix_ds.info()"
      ]
    },
    {
      "cell_type": "code",
      "execution_count": null,
      "metadata": {
        "colab": {
          "base_uri": "https://localhost:8080/",
          "height": 394
        },
        "id": "13U4kDkV6WIj",
        "outputId": "52b00e36-84d0-4f31-c7c9-088f905451c0"
      },
      "outputs": [
        {
          "output_type": "execute_result",
          "data": {
            "text/plain": [
              "            count unique                                                top  \\\n",
              "show_id      8807   8807                                                 s1   \n",
              "type         8807      2                                              Movie   \n",
              "title        8807   8807                               Dick Johnson Is Dead   \n",
              "director     6173   4528                                      Rajiv Chilaka   \n",
              "cast         7982   7692                                 David Attenborough   \n",
              "country      7976    748                                      United States   \n",
              "date_added   8797   1767                                    January 1, 2020   \n",
              "rating       8803     17                                              TV-MA   \n",
              "duration     8804    220                                           1 Season   \n",
              "listed_in    8807    514                       Dramas, International Movies   \n",
              "description  8807   8775  Paranormal activity at a lush, abandoned prope...   \n",
              "\n",
              "             freq  \n",
              "show_id         1  \n",
              "type         6131  \n",
              "title           1  \n",
              "director       19  \n",
              "cast           19  \n",
              "country      2818  \n",
              "date_added    109  \n",
              "rating       3207  \n",
              "duration     1793  \n",
              "listed_in     362  \n",
              "description     4  "
            ],
            "text/html": [
              "\n",
              "  <div id=\"df-de030d76-2918-4ab7-a566-cc470c8c6b00\">\n",
              "    <div class=\"colab-df-container\">\n",
              "      <div>\n",
              "<style scoped>\n",
              "    .dataframe tbody tr th:only-of-type {\n",
              "        vertical-align: middle;\n",
              "    }\n",
              "\n",
              "    .dataframe tbody tr th {\n",
              "        vertical-align: top;\n",
              "    }\n",
              "\n",
              "    .dataframe thead th {\n",
              "        text-align: right;\n",
              "    }\n",
              "</style>\n",
              "<table border=\"1\" class=\"dataframe\">\n",
              "  <thead>\n",
              "    <tr style=\"text-align: right;\">\n",
              "      <th></th>\n",
              "      <th>count</th>\n",
              "      <th>unique</th>\n",
              "      <th>top</th>\n",
              "      <th>freq</th>\n",
              "    </tr>\n",
              "  </thead>\n",
              "  <tbody>\n",
              "    <tr>\n",
              "      <th>show_id</th>\n",
              "      <td>8807</td>\n",
              "      <td>8807</td>\n",
              "      <td>s1</td>\n",
              "      <td>1</td>\n",
              "    </tr>\n",
              "    <tr>\n",
              "      <th>type</th>\n",
              "      <td>8807</td>\n",
              "      <td>2</td>\n",
              "      <td>Movie</td>\n",
              "      <td>6131</td>\n",
              "    </tr>\n",
              "    <tr>\n",
              "      <th>title</th>\n",
              "      <td>8807</td>\n",
              "      <td>8807</td>\n",
              "      <td>Dick Johnson Is Dead</td>\n",
              "      <td>1</td>\n",
              "    </tr>\n",
              "    <tr>\n",
              "      <th>director</th>\n",
              "      <td>6173</td>\n",
              "      <td>4528</td>\n",
              "      <td>Rajiv Chilaka</td>\n",
              "      <td>19</td>\n",
              "    </tr>\n",
              "    <tr>\n",
              "      <th>cast</th>\n",
              "      <td>7982</td>\n",
              "      <td>7692</td>\n",
              "      <td>David Attenborough</td>\n",
              "      <td>19</td>\n",
              "    </tr>\n",
              "    <tr>\n",
              "      <th>country</th>\n",
              "      <td>7976</td>\n",
              "      <td>748</td>\n",
              "      <td>United States</td>\n",
              "      <td>2818</td>\n",
              "    </tr>\n",
              "    <tr>\n",
              "      <th>date_added</th>\n",
              "      <td>8797</td>\n",
              "      <td>1767</td>\n",
              "      <td>January 1, 2020</td>\n",
              "      <td>109</td>\n",
              "    </tr>\n",
              "    <tr>\n",
              "      <th>rating</th>\n",
              "      <td>8803</td>\n",
              "      <td>17</td>\n",
              "      <td>TV-MA</td>\n",
              "      <td>3207</td>\n",
              "    </tr>\n",
              "    <tr>\n",
              "      <th>duration</th>\n",
              "      <td>8804</td>\n",
              "      <td>220</td>\n",
              "      <td>1 Season</td>\n",
              "      <td>1793</td>\n",
              "    </tr>\n",
              "    <tr>\n",
              "      <th>listed_in</th>\n",
              "      <td>8807</td>\n",
              "      <td>514</td>\n",
              "      <td>Dramas, International Movies</td>\n",
              "      <td>362</td>\n",
              "    </tr>\n",
              "    <tr>\n",
              "      <th>description</th>\n",
              "      <td>8807</td>\n",
              "      <td>8775</td>\n",
              "      <td>Paranormal activity at a lush, abandoned prope...</td>\n",
              "      <td>4</td>\n",
              "    </tr>\n",
              "  </tbody>\n",
              "</table>\n",
              "</div>\n",
              "      <button class=\"colab-df-convert\" onclick=\"convertToInteractive('df-de030d76-2918-4ab7-a566-cc470c8c6b00')\"\n",
              "              title=\"Convert this dataframe to an interactive table.\"\n",
              "              style=\"display:none;\">\n",
              "        \n",
              "  <svg xmlns=\"http://www.w3.org/2000/svg\" height=\"24px\"viewBox=\"0 0 24 24\"\n",
              "       width=\"24px\">\n",
              "    <path d=\"M0 0h24v24H0V0z\" fill=\"none\"/>\n",
              "    <path d=\"M18.56 5.44l.94 2.06.94-2.06 2.06-.94-2.06-.94-.94-2.06-.94 2.06-2.06.94zm-11 1L8.5 8.5l.94-2.06 2.06-.94-2.06-.94L8.5 2.5l-.94 2.06-2.06.94zm10 10l.94 2.06.94-2.06 2.06-.94-2.06-.94-.94-2.06-.94 2.06-2.06.94z\"/><path d=\"M17.41 7.96l-1.37-1.37c-.4-.4-.92-.59-1.43-.59-.52 0-1.04.2-1.43.59L10.3 9.45l-7.72 7.72c-.78.78-.78 2.05 0 2.83L4 21.41c.39.39.9.59 1.41.59.51 0 1.02-.2 1.41-.59l7.78-7.78 2.81-2.81c.8-.78.8-2.07 0-2.86zM5.41 20L4 18.59l7.72-7.72 1.47 1.35L5.41 20z\"/>\n",
              "  </svg>\n",
              "      </button>\n",
              "      \n",
              "  <style>\n",
              "    .colab-df-container {\n",
              "      display:flex;\n",
              "      flex-wrap:wrap;\n",
              "      gap: 12px;\n",
              "    }\n",
              "\n",
              "    .colab-df-convert {\n",
              "      background-color: #E8F0FE;\n",
              "      border: none;\n",
              "      border-radius: 50%;\n",
              "      cursor: pointer;\n",
              "      display: none;\n",
              "      fill: #1967D2;\n",
              "      height: 32px;\n",
              "      padding: 0 0 0 0;\n",
              "      width: 32px;\n",
              "    }\n",
              "\n",
              "    .colab-df-convert:hover {\n",
              "      background-color: #E2EBFA;\n",
              "      box-shadow: 0px 1px 2px rgba(60, 64, 67, 0.3), 0px 1px 3px 1px rgba(60, 64, 67, 0.15);\n",
              "      fill: #174EA6;\n",
              "    }\n",
              "\n",
              "    [theme=dark] .colab-df-convert {\n",
              "      background-color: #3B4455;\n",
              "      fill: #D2E3FC;\n",
              "    }\n",
              "\n",
              "    [theme=dark] .colab-df-convert:hover {\n",
              "      background-color: #434B5C;\n",
              "      box-shadow: 0px 1px 3px 1px rgba(0, 0, 0, 0.15);\n",
              "      filter: drop-shadow(0px 1px 2px rgba(0, 0, 0, 0.3));\n",
              "      fill: #FFFFFF;\n",
              "    }\n",
              "  </style>\n",
              "\n",
              "      <script>\n",
              "        const buttonEl =\n",
              "          document.querySelector('#df-de030d76-2918-4ab7-a566-cc470c8c6b00 button.colab-df-convert');\n",
              "        buttonEl.style.display =\n",
              "          google.colab.kernel.accessAllowed ? 'block' : 'none';\n",
              "\n",
              "        async function convertToInteractive(key) {\n",
              "          const element = document.querySelector('#df-de030d76-2918-4ab7-a566-cc470c8c6b00');\n",
              "          const dataTable =\n",
              "            await google.colab.kernel.invokeFunction('convertToInteractive',\n",
              "                                                     [key], {});\n",
              "          if (!dataTable) return;\n",
              "\n",
              "          const docLinkHtml = 'Like what you see? Visit the ' +\n",
              "            '<a target=\"_blank\" href=https://colab.research.google.com/notebooks/data_table.ipynb>data table notebook</a>'\n",
              "            + ' to learn more about interactive tables.';\n",
              "          element.innerHTML = '';\n",
              "          dataTable['output_type'] = 'display_data';\n",
              "          await google.colab.output.renderOutput(dataTable, element);\n",
              "          const docLink = document.createElement('div');\n",
              "          docLink.innerHTML = docLinkHtml;\n",
              "          element.appendChild(docLink);\n",
              "        }\n",
              "      </script>\n",
              "    </div>\n",
              "  </div>\n",
              "  "
            ]
          },
          "metadata": {},
          "execution_count": 61
        }
      ],
      "source": [
        "netflix_ds.describe(include='object').transpose()"
      ]
    },
    {
      "cell_type": "markdown",
      "metadata": {
        "id": "KWuP0Jld5z_x"
      },
      "source": [
        "# **<span id=\"Data-Cleanup\" style=\"color:#023e8a;\">Data Cleanup</span>**\n",
        "\n"
      ]
    },
    {
      "cell_type": "code",
      "execution_count": null,
      "metadata": {
        "colab": {
          "base_uri": "https://localhost:8080/"
        },
        "id": "oyCpSgIP3tzl",
        "outputId": "79b04cb5-64de-4070-b446-4846e4a6d42a"
      },
      "outputs": [
        {
          "output_type": "execute_result",
          "data": {
            "text/plain": [
              "show_id            0\n",
              "type               0\n",
              "title              0\n",
              "director        2634\n",
              "cast             825\n",
              "country          831\n",
              "date_added        10\n",
              "release_year       0\n",
              "rating             4\n",
              "duration           3\n",
              "listed_in          0\n",
              "description        0\n",
              "dtype: int64"
            ]
          },
          "metadata": {},
          "execution_count": 62
        }
      ],
      "source": [
        "#Check Null Values per column\n",
        "pd.isnull(netflix_ds).sum()"
      ]
    },
    {
      "cell_type": "code",
      "execution_count": null,
      "metadata": {
        "id": "SdR4ILag5GGF"
      },
      "outputs": [],
      "source": [
        "netflix_ds.dropna(inplace=True,thresh=2) #Threshold of 2 does not end up removing anything"
      ]
    },
    {
      "cell_type": "code",
      "execution_count": null,
      "metadata": {
        "colab": {
          "base_uri": "https://localhost:8080/"
        },
        "id": "5Mwhtp7w5abs",
        "outputId": "85a958e0-580f-4c8f-e0cd-282974114d7c"
      },
      "outputs": [
        {
          "output_type": "execute_result",
          "data": {
            "text/plain": [
              "show_id            0\n",
              "type               0\n",
              "title              0\n",
              "director        2634\n",
              "cast             825\n",
              "country          831\n",
              "date_added        10\n",
              "release_year       0\n",
              "rating             4\n",
              "duration           3\n",
              "listed_in          0\n",
              "description        0\n",
              "dtype: int64"
            ]
          },
          "metadata": {},
          "execution_count": 64
        }
      ],
      "source": [
        "pd.isnull(netflix_ds).sum()"
      ]
    },
    {
      "cell_type": "code",
      "execution_count": null,
      "metadata": {
        "colab": {
          "base_uri": "https://localhost:8080/"
        },
        "id": "ceXUw9ye5fF7",
        "outputId": "d3d7c10c-7e94-4cbb-ab46-391051958a3e"
      },
      "outputs": [
        {
          "output_type": "execute_result",
          "data": {
            "text/plain": [
              "(8807, 12)"
            ]
          },
          "metadata": {},
          "execution_count": 65
        }
      ],
      "source": [
        "netflix_ds.shape"
      ]
    },
    {
      "cell_type": "code",
      "execution_count": null,
      "metadata": {
        "colab": {
          "base_uri": "https://localhost:8080/"
        },
        "id": "7NTKTQQ77SJ4",
        "outputId": "a7a41314-b45e-4bc6-d9cf-cb249844c103"
      },
      "outputs": [
        {
          "output_type": "execute_result",
          "data": {
            "text/plain": [
              "TV-MA       3207\n",
              "TV-14       2160\n",
              "TV-PG        863\n",
              "R            799\n",
              "PG-13        490\n",
              "TV-Y7        334\n",
              "TV-Y         307\n",
              "PG           287\n",
              "TV-G         220\n",
              "NR            80\n",
              "G             41\n",
              "TV-Y7-FV       6\n",
              "NC-17          3\n",
              "UR             3\n",
              "74 min         1\n",
              "84 min         1\n",
              "66 min         1\n",
              "Name: rating, dtype: int64"
            ]
          },
          "metadata": {},
          "execution_count": 66
        }
      ],
      "source": [
        "netflix_ds[\"rating\"].value_counts()"
      ]
    },
    {
      "cell_type": "code",
      "execution_count": null,
      "metadata": {
        "colab": {
          "base_uri": "https://localhost:8080/",
          "height": 143
        },
        "id": "AcMwYTZ67YbH",
        "outputId": "1d0ca4b2-2d9c-4ecb-97e4-62f3c89ee205"
      },
      "outputs": [
        {
          "output_type": "execute_result",
          "data": {
            "text/plain": [
              "     show_id   type                                 title    director  \\\n",
              "5541   s5542  Movie                       Louis C.K. 2017  Louis C.K.   \n",
              "5794   s5795  Movie                 Louis C.K.: Hilarious  Louis C.K.   \n",
              "5813   s5814  Movie  Louis C.K.: Live at the Comedy Store  Louis C.K.   \n",
              "\n",
              "            cast        country          date_added  release_year  rating  \\\n",
              "5541  Louis C.K.  United States       April 4, 2017          2017  74 min   \n",
              "5794  Louis C.K.  United States  September 16, 2016          2010  84 min   \n",
              "5813  Louis C.K.  United States     August 15, 2016          2015  66 min   \n",
              "\n",
              "     duration listed_in                                        description  \n",
              "5541      NaN    Movies  Louis C.K. muses on religion, eternal love, gi...  \n",
              "5794      NaN    Movies  Emmy-winning comedy writer Louis C.K. brings h...  \n",
              "5813      NaN    Movies  The comic puts his trademark hilarious/thought...  "
            ],
            "text/html": [
              "\n",
              "  <div id=\"df-1bbab20e-b705-4d0d-a091-9a7ac4985e56\">\n",
              "    <div class=\"colab-df-container\">\n",
              "      <div>\n",
              "<style scoped>\n",
              "    .dataframe tbody tr th:only-of-type {\n",
              "        vertical-align: middle;\n",
              "    }\n",
              "\n",
              "    .dataframe tbody tr th {\n",
              "        vertical-align: top;\n",
              "    }\n",
              "\n",
              "    .dataframe thead th {\n",
              "        text-align: right;\n",
              "    }\n",
              "</style>\n",
              "<table border=\"1\" class=\"dataframe\">\n",
              "  <thead>\n",
              "    <tr style=\"text-align: right;\">\n",
              "      <th></th>\n",
              "      <th>show_id</th>\n",
              "      <th>type</th>\n",
              "      <th>title</th>\n",
              "      <th>director</th>\n",
              "      <th>cast</th>\n",
              "      <th>country</th>\n",
              "      <th>date_added</th>\n",
              "      <th>release_year</th>\n",
              "      <th>rating</th>\n",
              "      <th>duration</th>\n",
              "      <th>listed_in</th>\n",
              "      <th>description</th>\n",
              "    </tr>\n",
              "  </thead>\n",
              "  <tbody>\n",
              "    <tr>\n",
              "      <th>5541</th>\n",
              "      <td>s5542</td>\n",
              "      <td>Movie</td>\n",
              "      <td>Louis C.K. 2017</td>\n",
              "      <td>Louis C.K.</td>\n",
              "      <td>Louis C.K.</td>\n",
              "      <td>United States</td>\n",
              "      <td>April 4, 2017</td>\n",
              "      <td>2017</td>\n",
              "      <td>74 min</td>\n",
              "      <td>NaN</td>\n",
              "      <td>Movies</td>\n",
              "      <td>Louis C.K. muses on religion, eternal love, gi...</td>\n",
              "    </tr>\n",
              "    <tr>\n",
              "      <th>5794</th>\n",
              "      <td>s5795</td>\n",
              "      <td>Movie</td>\n",
              "      <td>Louis C.K.: Hilarious</td>\n",
              "      <td>Louis C.K.</td>\n",
              "      <td>Louis C.K.</td>\n",
              "      <td>United States</td>\n",
              "      <td>September 16, 2016</td>\n",
              "      <td>2010</td>\n",
              "      <td>84 min</td>\n",
              "      <td>NaN</td>\n",
              "      <td>Movies</td>\n",
              "      <td>Emmy-winning comedy writer Louis C.K. brings h...</td>\n",
              "    </tr>\n",
              "    <tr>\n",
              "      <th>5813</th>\n",
              "      <td>s5814</td>\n",
              "      <td>Movie</td>\n",
              "      <td>Louis C.K.: Live at the Comedy Store</td>\n",
              "      <td>Louis C.K.</td>\n",
              "      <td>Louis C.K.</td>\n",
              "      <td>United States</td>\n",
              "      <td>August 15, 2016</td>\n",
              "      <td>2015</td>\n",
              "      <td>66 min</td>\n",
              "      <td>NaN</td>\n",
              "      <td>Movies</td>\n",
              "      <td>The comic puts his trademark hilarious/thought...</td>\n",
              "    </tr>\n",
              "  </tbody>\n",
              "</table>\n",
              "</div>\n",
              "      <button class=\"colab-df-convert\" onclick=\"convertToInteractive('df-1bbab20e-b705-4d0d-a091-9a7ac4985e56')\"\n",
              "              title=\"Convert this dataframe to an interactive table.\"\n",
              "              style=\"display:none;\">\n",
              "        \n",
              "  <svg xmlns=\"http://www.w3.org/2000/svg\" height=\"24px\"viewBox=\"0 0 24 24\"\n",
              "       width=\"24px\">\n",
              "    <path d=\"M0 0h24v24H0V0z\" fill=\"none\"/>\n",
              "    <path d=\"M18.56 5.44l.94 2.06.94-2.06 2.06-.94-2.06-.94-.94-2.06-.94 2.06-2.06.94zm-11 1L8.5 8.5l.94-2.06 2.06-.94-2.06-.94L8.5 2.5l-.94 2.06-2.06.94zm10 10l.94 2.06.94-2.06 2.06-.94-2.06-.94-.94-2.06-.94 2.06-2.06.94z\"/><path d=\"M17.41 7.96l-1.37-1.37c-.4-.4-.92-.59-1.43-.59-.52 0-1.04.2-1.43.59L10.3 9.45l-7.72 7.72c-.78.78-.78 2.05 0 2.83L4 21.41c.39.39.9.59 1.41.59.51 0 1.02-.2 1.41-.59l7.78-7.78 2.81-2.81c.8-.78.8-2.07 0-2.86zM5.41 20L4 18.59l7.72-7.72 1.47 1.35L5.41 20z\"/>\n",
              "  </svg>\n",
              "      </button>\n",
              "      \n",
              "  <style>\n",
              "    .colab-df-container {\n",
              "      display:flex;\n",
              "      flex-wrap:wrap;\n",
              "      gap: 12px;\n",
              "    }\n",
              "\n",
              "    .colab-df-convert {\n",
              "      background-color: #E8F0FE;\n",
              "      border: none;\n",
              "      border-radius: 50%;\n",
              "      cursor: pointer;\n",
              "      display: none;\n",
              "      fill: #1967D2;\n",
              "      height: 32px;\n",
              "      padding: 0 0 0 0;\n",
              "      width: 32px;\n",
              "    }\n",
              "\n",
              "    .colab-df-convert:hover {\n",
              "      background-color: #E2EBFA;\n",
              "      box-shadow: 0px 1px 2px rgba(60, 64, 67, 0.3), 0px 1px 3px 1px rgba(60, 64, 67, 0.15);\n",
              "      fill: #174EA6;\n",
              "    }\n",
              "\n",
              "    [theme=dark] .colab-df-convert {\n",
              "      background-color: #3B4455;\n",
              "      fill: #D2E3FC;\n",
              "    }\n",
              "\n",
              "    [theme=dark] .colab-df-convert:hover {\n",
              "      background-color: #434B5C;\n",
              "      box-shadow: 0px 1px 3px 1px rgba(0, 0, 0, 0.15);\n",
              "      filter: drop-shadow(0px 1px 2px rgba(0, 0, 0, 0.3));\n",
              "      fill: #FFFFFF;\n",
              "    }\n",
              "  </style>\n",
              "\n",
              "      <script>\n",
              "        const buttonEl =\n",
              "          document.querySelector('#df-1bbab20e-b705-4d0d-a091-9a7ac4985e56 button.colab-df-convert');\n",
              "        buttonEl.style.display =\n",
              "          google.colab.kernel.accessAllowed ? 'block' : 'none';\n",
              "\n",
              "        async function convertToInteractive(key) {\n",
              "          const element = document.querySelector('#df-1bbab20e-b705-4d0d-a091-9a7ac4985e56');\n",
              "          const dataTable =\n",
              "            await google.colab.kernel.invokeFunction('convertToInteractive',\n",
              "                                                     [key], {});\n",
              "          if (!dataTable) return;\n",
              "\n",
              "          const docLinkHtml = 'Like what you see? Visit the ' +\n",
              "            '<a target=\"_blank\" href=https://colab.research.google.com/notebooks/data_table.ipynb>data table notebook</a>'\n",
              "            + ' to learn more about interactive tables.';\n",
              "          element.innerHTML = '';\n",
              "          dataTable['output_type'] = 'display_data';\n",
              "          await google.colab.output.renderOutput(dataTable, element);\n",
              "          const docLink = document.createElement('div');\n",
              "          docLink.innerHTML = docLinkHtml;\n",
              "          element.appendChild(docLink);\n",
              "        }\n",
              "      </script>\n",
              "    </div>\n",
              "  </div>\n",
              "  "
            ]
          },
          "metadata": {},
          "execution_count": 67
        }
      ],
      "source": [
        "#Rating has duration (74 mins, 84 etc. needs to be cleaned and replaced)\n",
        "netflix_ds[netflix_ds[\"rating\"].isin([\"74 min\",\"84 min\",\"66 min\"])]"
      ]
    },
    {
      "cell_type": "markdown",
      "metadata": {
        "id": "ijd3elBk7u6A"
      },
      "source": [
        "**External Manual Validation of Ratings**\n",
        "\n",
        "| Title       | Rating as per IMDB |\n",
        "| ----------- | ----------- |\n",
        "| Louis C.K. 2017      | TV-MA       |\n",
        "| Louis C.K.: Hilarious   | TV-MA        |\n",
        "| Louis C.K.: Live at the Comedy Store | TV-MA |"
      ]
    },
    {
      "cell_type": "code",
      "execution_count": null,
      "metadata": {
        "id": "jHZ6kJo2Af7y"
      },
      "outputs": [],
      "source": [
        "#Replacing the ratings from NaN\n",
        "netflix_ds[\"rating\"].replace([\"74 min\",\"84 min\",\"66 min\"], \"TV-MA\", inplace= True)"
      ]
    },
    {
      "cell_type": "code",
      "execution_count": null,
      "metadata": {
        "colab": {
          "base_uri": "https://localhost:8080/",
          "height": 288
        },
        "id": "--wtiBJt_1_b",
        "outputId": "3635efb1-45da-439b-9b6b-ca17a12693a6"
      },
      "outputs": [
        {
          "output_type": "execute_result",
          "data": {
            "text/plain": [
              "     show_id     type                                              title  \\\n",
              "5989   s5990    Movie  13TH: A Conversation with Oprah Winfrey & Ava ...   \n",
              "6827   s6828  TV Show                  Gargantia on the Verdurous Planet   \n",
              "7312   s7313  TV Show                                       Little Lunch   \n",
              "7537   s7538    Movie                               My Honor Was Loyalty   \n",
              "\n",
              "             director                                               cast  \\\n",
              "5989              NaN                        Oprah Winfrey, Ava DuVernay   \n",
              "6827              NaN  Kaito Ishikawa, Hisako Kanemoto, Ai Kayano, Ka...   \n",
              "7312              NaN  Flynn Curry, Olivia Deeble, Madison Lu, Oisín ...   \n",
              "7537  Alessandro Pepe  Leone Frisa, Paolo Vaccarino, Francesco Miglio...   \n",
              "\n",
              "        country        date_added  release_year rating  duration  \\\n",
              "5989        NaN  January 26, 2017          2017    NaN    37 min   \n",
              "6827      Japan  December 1, 2016          2013    NaN  1 Season   \n",
              "7312  Australia  February 1, 2018          2015    NaN  1 Season   \n",
              "7537      Italy     March 1, 2017          2015    NaN   115 min   \n",
              "\n",
              "                                 listed_in  \\\n",
              "5989                                Movies   \n",
              "6827  Anime Series, International TV Shows   \n",
              "7312                 Kids' TV, TV Comedies   \n",
              "7537                                Dramas   \n",
              "\n",
              "                                            description  \n",
              "5989  Oprah Winfrey sits down with director Ava DuVe...  \n",
              "6827  After falling through a wormhole, a space-dwel...  \n",
              "7312  Adopting a child's perspective, this show take...  \n",
              "7537  Amid the chaos and horror of World War II, a c...  "
            ],
            "text/html": [
              "\n",
              "  <div id=\"df-9e01279f-fb09-451f-ad5a-31844dbf122c\">\n",
              "    <div class=\"colab-df-container\">\n",
              "      <div>\n",
              "<style scoped>\n",
              "    .dataframe tbody tr th:only-of-type {\n",
              "        vertical-align: middle;\n",
              "    }\n",
              "\n",
              "    .dataframe tbody tr th {\n",
              "        vertical-align: top;\n",
              "    }\n",
              "\n",
              "    .dataframe thead th {\n",
              "        text-align: right;\n",
              "    }\n",
              "</style>\n",
              "<table border=\"1\" class=\"dataframe\">\n",
              "  <thead>\n",
              "    <tr style=\"text-align: right;\">\n",
              "      <th></th>\n",
              "      <th>show_id</th>\n",
              "      <th>type</th>\n",
              "      <th>title</th>\n",
              "      <th>director</th>\n",
              "      <th>cast</th>\n",
              "      <th>country</th>\n",
              "      <th>date_added</th>\n",
              "      <th>release_year</th>\n",
              "      <th>rating</th>\n",
              "      <th>duration</th>\n",
              "      <th>listed_in</th>\n",
              "      <th>description</th>\n",
              "    </tr>\n",
              "  </thead>\n",
              "  <tbody>\n",
              "    <tr>\n",
              "      <th>5989</th>\n",
              "      <td>s5990</td>\n",
              "      <td>Movie</td>\n",
              "      <td>13TH: A Conversation with Oprah Winfrey &amp; Ava ...</td>\n",
              "      <td>NaN</td>\n",
              "      <td>Oprah Winfrey, Ava DuVernay</td>\n",
              "      <td>NaN</td>\n",
              "      <td>January 26, 2017</td>\n",
              "      <td>2017</td>\n",
              "      <td>NaN</td>\n",
              "      <td>37 min</td>\n",
              "      <td>Movies</td>\n",
              "      <td>Oprah Winfrey sits down with director Ava DuVe...</td>\n",
              "    </tr>\n",
              "    <tr>\n",
              "      <th>6827</th>\n",
              "      <td>s6828</td>\n",
              "      <td>TV Show</td>\n",
              "      <td>Gargantia on the Verdurous Planet</td>\n",
              "      <td>NaN</td>\n",
              "      <td>Kaito Ishikawa, Hisako Kanemoto, Ai Kayano, Ka...</td>\n",
              "      <td>Japan</td>\n",
              "      <td>December 1, 2016</td>\n",
              "      <td>2013</td>\n",
              "      <td>NaN</td>\n",
              "      <td>1 Season</td>\n",
              "      <td>Anime Series, International TV Shows</td>\n",
              "      <td>After falling through a wormhole, a space-dwel...</td>\n",
              "    </tr>\n",
              "    <tr>\n",
              "      <th>7312</th>\n",
              "      <td>s7313</td>\n",
              "      <td>TV Show</td>\n",
              "      <td>Little Lunch</td>\n",
              "      <td>NaN</td>\n",
              "      <td>Flynn Curry, Olivia Deeble, Madison Lu, Oisín ...</td>\n",
              "      <td>Australia</td>\n",
              "      <td>February 1, 2018</td>\n",
              "      <td>2015</td>\n",
              "      <td>NaN</td>\n",
              "      <td>1 Season</td>\n",
              "      <td>Kids' TV, TV Comedies</td>\n",
              "      <td>Adopting a child's perspective, this show take...</td>\n",
              "    </tr>\n",
              "    <tr>\n",
              "      <th>7537</th>\n",
              "      <td>s7538</td>\n",
              "      <td>Movie</td>\n",
              "      <td>My Honor Was Loyalty</td>\n",
              "      <td>Alessandro Pepe</td>\n",
              "      <td>Leone Frisa, Paolo Vaccarino, Francesco Miglio...</td>\n",
              "      <td>Italy</td>\n",
              "      <td>March 1, 2017</td>\n",
              "      <td>2015</td>\n",
              "      <td>NaN</td>\n",
              "      <td>115 min</td>\n",
              "      <td>Dramas</td>\n",
              "      <td>Amid the chaos and horror of World War II, a c...</td>\n",
              "    </tr>\n",
              "  </tbody>\n",
              "</table>\n",
              "</div>\n",
              "      <button class=\"colab-df-convert\" onclick=\"convertToInteractive('df-9e01279f-fb09-451f-ad5a-31844dbf122c')\"\n",
              "              title=\"Convert this dataframe to an interactive table.\"\n",
              "              style=\"display:none;\">\n",
              "        \n",
              "  <svg xmlns=\"http://www.w3.org/2000/svg\" height=\"24px\"viewBox=\"0 0 24 24\"\n",
              "       width=\"24px\">\n",
              "    <path d=\"M0 0h24v24H0V0z\" fill=\"none\"/>\n",
              "    <path d=\"M18.56 5.44l.94 2.06.94-2.06 2.06-.94-2.06-.94-.94-2.06-.94 2.06-2.06.94zm-11 1L8.5 8.5l.94-2.06 2.06-.94-2.06-.94L8.5 2.5l-.94 2.06-2.06.94zm10 10l.94 2.06.94-2.06 2.06-.94-2.06-.94-.94-2.06-.94 2.06-2.06.94z\"/><path d=\"M17.41 7.96l-1.37-1.37c-.4-.4-.92-.59-1.43-.59-.52 0-1.04.2-1.43.59L10.3 9.45l-7.72 7.72c-.78.78-.78 2.05 0 2.83L4 21.41c.39.39.9.59 1.41.59.51 0 1.02-.2 1.41-.59l7.78-7.78 2.81-2.81c.8-.78.8-2.07 0-2.86zM5.41 20L4 18.59l7.72-7.72 1.47 1.35L5.41 20z\"/>\n",
              "  </svg>\n",
              "      </button>\n",
              "      \n",
              "  <style>\n",
              "    .colab-df-container {\n",
              "      display:flex;\n",
              "      flex-wrap:wrap;\n",
              "      gap: 12px;\n",
              "    }\n",
              "\n",
              "    .colab-df-convert {\n",
              "      background-color: #E8F0FE;\n",
              "      border: none;\n",
              "      border-radius: 50%;\n",
              "      cursor: pointer;\n",
              "      display: none;\n",
              "      fill: #1967D2;\n",
              "      height: 32px;\n",
              "      padding: 0 0 0 0;\n",
              "      width: 32px;\n",
              "    }\n",
              "\n",
              "    .colab-df-convert:hover {\n",
              "      background-color: #E2EBFA;\n",
              "      box-shadow: 0px 1px 2px rgba(60, 64, 67, 0.3), 0px 1px 3px 1px rgba(60, 64, 67, 0.15);\n",
              "      fill: #174EA6;\n",
              "    }\n",
              "\n",
              "    [theme=dark] .colab-df-convert {\n",
              "      background-color: #3B4455;\n",
              "      fill: #D2E3FC;\n",
              "    }\n",
              "\n",
              "    [theme=dark] .colab-df-convert:hover {\n",
              "      background-color: #434B5C;\n",
              "      box-shadow: 0px 1px 3px 1px rgba(0, 0, 0, 0.15);\n",
              "      filter: drop-shadow(0px 1px 2px rgba(0, 0, 0, 0.3));\n",
              "      fill: #FFFFFF;\n",
              "    }\n",
              "  </style>\n",
              "\n",
              "      <script>\n",
              "        const buttonEl =\n",
              "          document.querySelector('#df-9e01279f-fb09-451f-ad5a-31844dbf122c button.colab-df-convert');\n",
              "        buttonEl.style.display =\n",
              "          google.colab.kernel.accessAllowed ? 'block' : 'none';\n",
              "\n",
              "        async function convertToInteractive(key) {\n",
              "          const element = document.querySelector('#df-9e01279f-fb09-451f-ad5a-31844dbf122c');\n",
              "          const dataTable =\n",
              "            await google.colab.kernel.invokeFunction('convertToInteractive',\n",
              "                                                     [key], {});\n",
              "          if (!dataTable) return;\n",
              "\n",
              "          const docLinkHtml = 'Like what you see? Visit the ' +\n",
              "            '<a target=\"_blank\" href=https://colab.research.google.com/notebooks/data_table.ipynb>data table notebook</a>'\n",
              "            + ' to learn more about interactive tables.';\n",
              "          element.innerHTML = '';\n",
              "          dataTable['output_type'] = 'display_data';\n",
              "          await google.colab.output.renderOutput(dataTable, element);\n",
              "          const docLink = document.createElement('div');\n",
              "          docLink.innerHTML = docLinkHtml;\n",
              "          element.appendChild(docLink);\n",
              "        }\n",
              "      </script>\n",
              "    </div>\n",
              "  </div>\n",
              "  "
            ]
          },
          "metadata": {},
          "execution_count": 69
        }
      ],
      "source": [
        "netflix_ds[netflix_ds[\"rating\"].isnull()]"
      ]
    },
    {
      "cell_type": "markdown",
      "metadata": {
        "id": "9jL0dMAL_4iT"
      },
      "source": [
        "**External Manual Validation of Ratings**\n",
        "\n",
        "| Title       | Rating as per IMDB |\n",
        "| ----------- | ----------- |\n",
        "| 13TH: A Conversation with Oprah Winfrey & Ava DuVernay| TV-PG |\n",
        "| Gargantia on the Verdurous Planet      | TV-14       |\n",
        "| Little Lunch\t   | TV-MA        |\n",
        "| My Honor Was Loyalty\t | PG-13 |"
      ]
    },
    {
      "cell_type": "code",
      "execution_count": null,
      "metadata": {
        "colab": {
          "base_uri": "https://localhost:8080/"
        },
        "id": "a0wniwqqA0Pg",
        "outputId": "8df060cb-5a0e-43e9-877b-9cb9ac8a92bc"
      },
      "outputs": [
        {
          "output_type": "stream",
          "name": "stderr",
          "text": [
            "/usr/local/lib/python3.7/dist-packages/ipykernel_launcher.py:1: SettingWithCopyWarning: \n",
            "A value is trying to be set on a copy of a slice from a DataFrame\n",
            "\n",
            "See the caveats in the documentation: https://pandas.pydata.org/pandas-docs/stable/user_guide/indexing.html#returning-a-view-versus-a-copy\n",
            "  \"\"\"Entry point for launching an IPython kernel.\n",
            "/usr/local/lib/python3.7/dist-packages/ipykernel_launcher.py:2: SettingWithCopyWarning: \n",
            "A value is trying to be set on a copy of a slice from a DataFrame\n",
            "\n",
            "See the caveats in the documentation: https://pandas.pydata.org/pandas-docs/stable/user_guide/indexing.html#returning-a-view-versus-a-copy\n",
            "  \n",
            "/usr/local/lib/python3.7/dist-packages/ipykernel_launcher.py:3: SettingWithCopyWarning: \n",
            "A value is trying to be set on a copy of a slice from a DataFrame\n",
            "\n",
            "See the caveats in the documentation: https://pandas.pydata.org/pandas-docs/stable/user_guide/indexing.html#returning-a-view-versus-a-copy\n",
            "  This is separate from the ipykernel package so we can avoid doing imports until\n",
            "/usr/local/lib/python3.7/dist-packages/ipykernel_launcher.py:4: SettingWithCopyWarning: \n",
            "A value is trying to be set on a copy of a slice from a DataFrame\n",
            "\n",
            "See the caveats in the documentation: https://pandas.pydata.org/pandas-docs/stable/user_guide/indexing.html#returning-a-view-versus-a-copy\n",
            "  after removing the cwd from sys.path.\n"
          ]
        }
      ],
      "source": [
        "netflix_ds['rating'][netflix_ds['title'] =='13TH: A Conversation with Oprah Winfrey & Ava DuVernay'] = 'TV-PG'\n",
        "netflix_ds['rating'][netflix_ds['title']=='Gargantia on the Verdurous Planet'] = 'TV-14'\n",
        "netflix_ds['rating'][netflix_ds['title']=='Little Lunch'] = 'TV-MA'\n",
        "netflix_ds['rating'][netflix_ds['title']=='My Honor Was Loyalty'] = 'PG-13'"
      ]
    },
    {
      "cell_type": "code",
      "execution_count": null,
      "metadata": {
        "colab": {
          "base_uri": "https://localhost:8080/"
        },
        "id": "LFFoJOt9ItOj",
        "outputId": "188b797d-133e-41db-f682-f4a41069e6fd"
      },
      "outputs": [
        {
          "output_type": "execute_result",
          "data": {
            "text/plain": [
              "TV-MA       3211\n",
              "TV-14       2161\n",
              "TV-PG        864\n",
              "R            799\n",
              "PG-13        491\n",
              "TV-Y7        334\n",
              "TV-Y         307\n",
              "PG           287\n",
              "TV-G         220\n",
              "NR            80\n",
              "G             41\n",
              "TV-Y7-FV       6\n",
              "NC-17          3\n",
              "UR             3\n",
              "Name: rating, dtype: int64"
            ]
          },
          "metadata": {},
          "execution_count": 71
        }
      ],
      "source": [
        "netflix_ds[\"rating\"].value_counts(ascending=False)"
      ]
    },
    {
      "cell_type": "code",
      "execution_count": null,
      "metadata": {
        "colab": {
          "base_uri": "https://localhost:8080/"
        },
        "id": "VuJ_JJpxJ1cX",
        "outputId": "bc818828-8f97-4fc0-d4ec-cda9179efc39"
      },
      "outputs": [
        {
          "output_type": "execute_result",
          "data": {
            "text/plain": [
              "show_id            0\n",
              "type               0\n",
              "title              0\n",
              "director        2634\n",
              "cast             825\n",
              "country          831\n",
              "date_added        10\n",
              "release_year       0\n",
              "rating             0\n",
              "duration           3\n",
              "listed_in          0\n",
              "description        0\n",
              "dtype: int64"
            ]
          },
          "metadata": {},
          "execution_count": 72
        }
      ],
      "source": [
        "pd.isnull(netflix_ds).sum()"
      ]
    },
    {
      "cell_type": "code",
      "execution_count": null,
      "metadata": {
        "colab": {
          "base_uri": "https://localhost:8080/"
        },
        "id": "zH3NmwNiJ2ha",
        "outputId": "14d00994-62c5-4cb4-a08b-ba89ebd3d6d3"
      },
      "outputs": [
        {
          "output_type": "execute_result",
          "data": {
            "text/plain": [
              "show_id          0\n",
              "type             0\n",
              "title            0\n",
              "director         0\n",
              "cast             0\n",
              "country          0\n",
              "date_added      10\n",
              "release_year     0\n",
              "rating           0\n",
              "duration         3\n",
              "listed_in        0\n",
              "description      0\n",
              "dtype: int64"
            ]
          },
          "metadata": {},
          "execution_count": 73
        }
      ],
      "source": [
        "#Replacing and filling in director, cast, and country \n",
        "netflix_ds.fillna({'director': 'Not Listed', 'country': 'Not Listed', 'cast': 'Not Listed'}, inplace=True)\n",
        "pd.isnull(netflix_ds).sum()"
      ]
    },
    {
      "cell_type": "code",
      "execution_count": null,
      "metadata": {
        "colab": {
          "base_uri": "https://localhost:8080/"
        },
        "id": "UtkD02tTf2Ow",
        "outputId": "cb7fe14b-b95f-40e0-a089-a76076d9a949"
      },
      "outputs": [
        {
          "output_type": "execute_result",
          "data": {
            "text/plain": [
              "show_id         object\n",
              "type            object\n",
              "title           object\n",
              "director        object\n",
              "cast            object\n",
              "country         object\n",
              "date_added      object\n",
              "release_year     int64\n",
              "rating          object\n",
              "duration        object\n",
              "listed_in       object\n",
              "description     object\n",
              "dtype: object"
            ]
          },
          "metadata": {},
          "execution_count": 74
        }
      ],
      "source": [
        "netflix_ds.dtypes"
      ]
    },
    {
      "cell_type": "code",
      "execution_count": null,
      "metadata": {
        "id": "SP7Md4zGKJoV"
      },
      "outputs": [],
      "source": [
        "#Clean Date Added - Manual Validation @Paulin"
      ]
    },
    {
      "cell_type": "code",
      "execution_count": null,
      "metadata": {
        "id": "kj77tqCQgfSQ"
      },
      "outputs": [],
      "source": [
        "#Clean Show ID, Duration Conversion @Bhagirath\n",
        "#Two new columns 13th and 14th"
      ]
    },
    {
      "cell_type": "code",
      "execution_count": null,
      "metadata": {
        "id": "-QEuM7Z-KMTS"
      },
      "outputs": [],
      "source": [
        "#Clean Duration - Manual Validation"
      ]
    },
    {
      "cell_type": "code",
      "execution_count": null,
      "metadata": {
        "id": "WaNRQWJ5hH-5"
      },
      "outputs": [],
      "source": [
        "#Move Duration of Louis CK to duration"
      ]
    },
    {
      "cell_type": "markdown",
      "metadata": {
        "id": "8FAALQ0SuEPJ"
      },
      "source": [
        "# **<span id=\"Questions\" style=\"color:#023e8a;\">Key Questions Answered</span>**\n"
      ]
    },
    {
      "cell_type": "markdown",
      "metadata": {
        "id": "GC9e54zS0-WK"
      },
      "source": [
        "## What are the top 20 durations of Movies/TV Shows?"
      ]
    },
    {
      "cell_type": "code",
      "execution_count": null,
      "metadata": {
        "id": "Rjl-YGE61LEg",
        "colab": {
          "base_uri": "https://localhost:8080/",
          "height": 350
        },
        "outputId": "49883524-8c71-4ef8-bd76-df75792febd4"
      },
      "outputs": [
        {
          "output_type": "display_data",
          "data": {
            "text/plain": [
              "<Figure size 720x360 with 1 Axes>"
            ],
            "image/png": "[encoded data removed]"
          },
          "metadata": {}
        }
      ],
      "source": [
        "import matplotlib.style as style\n",
        "style.use('dark_background')  \n",
        "\n",
        "#Plot top 20 duration column color code by rating\n",
        "netflix_ds['duration'].value_counts().head(20).plot(kind='barh', figsize=(10,5), color='#E50914')\n",
        "#Labeling\n",
        "plt.title('Top 20 Duration')\n",
        "plt.xlabel('Count')\n",
        "plt.ylabel('Duration')\n",
        "plt.show()"
      ]
    },
    {
      "cell_type": "markdown",
      "metadata": {
        "id": "bwco-n7fr0Yi"
      },
      "source": [
        "## Average Season Length for TV Shows"
      ]
    },
    {
      "cell_type": "code",
      "execution_count": null,
      "metadata": {
        "colab": {
          "base_uri": "https://localhost:8080/",
          "height": 350
        },
        "id": "c3jIFlV2r0Yi",
        "outputId": "eabf54c5-73d8-499b-b53f-8814052f4941"
      },
      "outputs": [
        {
          "output_type": "display_data",
          "data": {
            "text/plain": [
              "<Figure size 720x360 with 1 Axes>"
            ],
            "image/png": "[encoded data removed]"
          },
          "metadata": {}
        }
      ],
      "source": [
        "#Remove NaN from duration\n",
        "netflix_ds['duration'].replace('NaN', '0 min', inplace=True)\n",
        "#Plot value from duration column that includes the word season\n",
        "netflix_ds[netflix_ds['duration'].str.contains('Season',na=False)]['duration'].value_counts().plot(kind='barh', figsize=(10,5), color='#E50914')\n",
        "#Labeling\n",
        "plt.title('Duration with Season')\n",
        "plt.xlabel('Count')\n",
        "plt.ylabel('Duration')\n",
        "plt.show()"
      ]
    },
    {
      "cell_type": "markdown",
      "metadata": {
        "id": "1YQT__n3r0Yj"
      },
      "source": [
        "## Growth of Drama TV Shows **produced** by Netflix"
      ]
    },
    {
      "cell_type": "markdown",
      "source": [
        "Because the original dataset does not include information of Producers, we use python libraries `beautifulsoup4` , `requests` to parse information from the Wikipedia page."
      ],
      "metadata": {
        "id": "YTVjBn5cqOqT"
      }
    },
    {
      "cell_type": "code",
      "execution_count": null,
      "metadata": {
        "colab": {
          "base_uri": "https://localhost:8080/"
        },
        "id": "RWDMhvLjr0Yj",
        "outputId": "4f3cba16-cd85-418a-a5c7-48e88ec3e1bd"
      },
      "outputs": [
        {
          "output_type": "stream",
          "name": "stdout",
          "text": [
            "Looking in indexes: https://pypi.org/simple, https://us-python.pkg.dev/colab-wheels/public/simple/\n",
            "Requirement already satisfied: beautifulsoup4 in /usr/local/lib/python3.7/dist-packages (4.6.3)\n"
          ]
        }
      ],
      "source": [
        "!pip install beautifulsoup4"
      ]
    },
    {
      "cell_type": "code",
      "execution_count": null,
      "metadata": {
        "id": "3C8RA-c8r0Yj"
      },
      "outputs": [],
      "source": [
        "import requests # library to handle requests\n",
        "from bs4 import BeautifulSoup # library to parse HTML documents"
      ]
    },
    {
      "cell_type": "code",
      "execution_count": null,
      "metadata": {
        "colab": {
          "base_uri": "https://localhost:8080/"
        },
        "id": "VyGVX9sBr0Yj",
        "outputId": "9c3be609-aa01-4483-8756-525251760c39"
      },
      "outputs": [
        {
          "output_type": "stream",
          "name": "stdout",
          "text": [
            "200\n"
          ]
        }
      ],
      "source": [
        "# get the response in the form of html\n",
        "wikiurl=\"https://en.wikipedia.org/wiki/List_of_ended_Netflix_original_programming\"\n",
        "table_class=\"wikitable sortable jquery-tablesorter\"\n",
        "response=requests.get(wikiurl)\n",
        "print(response.status_code)"
      ]
    },
    {
      "cell_type": "code",
      "execution_count": null,
      "metadata": {
        "id": "91Wg55A2r0Yj"
      },
      "outputs": [],
      "source": [
        "# parse data from the html into a beautifulsoup object\n",
        "soup = BeautifulSoup(response.text, 'html.parser')\n",
        "netflix_originals_drama_table=soup.find('table',{'class':\"wikitable\"})"
      ]
    },
    {
      "cell_type": "code",
      "execution_count": null,
      "metadata": {
        "colab": {
          "base_uri": "https://localhost:8080/"
        },
        "id": "kvA9nIfEr0Yj",
        "outputId": "b373b97c-0eb8-4db2-dce1-9633ef88b114"
      },
      "outputs": [
        {
          "output_type": "stream",
          "name": "stdout",
          "text": [
            "                     Title             Genre           Premiere  \\\n",
            "0           House of Cards   Political drama   February 1, 2013   \n",
            "1            Hemlock Grove   Horror/thriller     April 19, 2013   \n",
            "2  Orange Is the New Black      Comedy drama      July 11, 2013   \n",
            "3               Marco Polo  Historical drama  December 12, 2014   \n",
            "4                Bloodline          Thriller     March 20, 2015   \n",
            "\n",
            "             Finale                 Seasons    Runtime   Notes  \n",
            "0  November 2, 2018  6 seasons, 73 episodes  42–59 min     [1]  \n",
            "1  October 23, 2015  3 seasons, 33 episodes  45–58 min  [2][a]  \n",
            "2     July 26, 2019  7 seasons, 91 episodes  50–92 min     [3]  \n",
            "3      July 1, 2016  2 seasons, 20 episodes  48–65 min     [4]  \n",
            "4      May 26, 2017  3 seasons, 33 episodes  48–68 min     [5]  \n"
          ]
        }
      ],
      "source": [
        "netflix_originals_drama_ds=pd.read_html(str(netflix_originals_drama_table))\n",
        "# convert list to dataframe\n",
        "netflix_originals_drama_ds=pd.DataFrame(netflix_originals_drama_ds[0])\n",
        "print(netflix_originals_drama_ds.head())"
      ]
    },
    {
      "cell_type": "code",
      "execution_count": null,
      "metadata": {
        "id": "s-aQBHsCr0Yj"
      },
      "outputs": [],
      "source": [
        "#Export to CSV\n",
        "netflix_originals_drama_ds.to_csv('netflix_originals_ds_drama.csv', index=False)"
      ]
    },
    {
      "cell_type": "code",
      "execution_count": null,
      "metadata": {
        "id": "VQ7HmUFTr0Yj"
      },
      "outputs": [],
      "source": [
        "#Drop notes column\n",
        "netflix_originals_drama_ds.drop(['Notes'], axis=1, inplace=True)"
      ]
    },
    {
      "cell_type": "code",
      "execution_count": null,
      "metadata": {
        "colab": {
          "base_uri": "https://localhost:8080/",
          "height": 206
        },
        "id": "uTu11DU5r0Yj",
        "outputId": "6d9f6bde-77ea-4798-b0de-0e79d136899c"
      },
      "outputs": [
        {
          "output_type": "execute_result",
          "data": {
            "text/plain": [
              "                     Title             Genre           Premiere  \\\n",
              "0           House of Cards   Political drama   February 1, 2013   \n",
              "1            Hemlock Grove   Horror/thriller     April 19, 2013   \n",
              "2  Orange Is the New Black      Comedy drama      July 11, 2013   \n",
              "3               Marco Polo  Historical drama  December 12, 2014   \n",
              "4                Bloodline          Thriller     March 20, 2015   \n",
              "\n",
              "             Finale                 Seasons    Runtime Seasons_Only  \\\n",
              "0  November 2, 2018  6 seasons, 73 episodes  42–59 min    6 seasons   \n",
              "1  October 23, 2015  3 seasons, 33 episodes  45–58 min    3 seasons   \n",
              "2     July 26, 2019  7 seasons, 91 episodes  50–92 min    7 seasons   \n",
              "3      July 1, 2016  2 seasons, 20 episodes  48–65 min    2 seasons   \n",
              "4      May 26, 2017  3 seasons, 33 episodes  48–68 min    3 seasons   \n",
              "\n",
              "       Episodes  \n",
              "0   73 episodes  \n",
              "1   33 episodes  \n",
              "2   91 episodes  \n",
              "3   20 episodes  \n",
              "4   33 episodes  "
            ],
            "text/html": [
              "\n",
              "  <div id=\"df-fb78270d-7776-4850-97e2-e245fd9ed8be\">\n",
              "    <div class=\"colab-df-container\">\n",
              "      <div>\n",
              "<style scoped>\n",
              "    .dataframe tbody tr th:only-of-type {\n",
              "        vertical-align: middle;\n",
              "    }\n",
              "\n",
              "    .dataframe tbody tr th {\n",
              "        vertical-align: top;\n",
              "    }\n",
              "\n",
              "    .dataframe thead th {\n",
              "        text-align: right;\n",
              "    }\n",
              "</style>\n",
              "<table border=\"1\" class=\"dataframe\">\n",
              "  <thead>\n",
              "    <tr style=\"text-align: right;\">\n",
              "      <th></th>\n",
              "      <th>Title</th>\n",
              "      <th>Genre</th>\n",
              "      <th>Premiere</th>\n",
              "      <th>Finale</th>\n",
              "      <th>Seasons</th>\n",
              "      <th>Runtime</th>\n",
              "      <th>Seasons_Only</th>\n",
              "      <th>Episodes</th>\n",
              "    </tr>\n",
              "  </thead>\n",
              "  <tbody>\n",
              "    <tr>\n",
              "      <th>0</th>\n",
              "      <td>House of Cards</td>\n",
              "      <td>Political drama</td>\n",
              "      <td>February 1, 2013</td>\n",
              "      <td>November 2, 2018</td>\n",
              "      <td>6 seasons, 73 episodes</td>\n",
              "      <td>42–59 min</td>\n",
              "      <td>6 seasons</td>\n",
              "      <td>73 episodes</td>\n",
              "    </tr>\n",
              "    <tr>\n",
              "      <th>1</th>\n",
              "      <td>Hemlock Grove</td>\n",
              "      <td>Horror/thriller</td>\n",
              "      <td>April 19, 2013</td>\n",
              "      <td>October 23, 2015</td>\n",
              "      <td>3 seasons, 33 episodes</td>\n",
              "      <td>45–58 min</td>\n",
              "      <td>3 seasons</td>\n",
              "      <td>33 episodes</td>\n",
              "    </tr>\n",
              "    <tr>\n",
              "      <th>2</th>\n",
              "      <td>Orange Is the New Black</td>\n",
              "      <td>Comedy drama</td>\n",
              "      <td>July 11, 2013</td>\n",
              "      <td>July 26, 2019</td>\n",
              "      <td>7 seasons, 91 episodes</td>\n",
              "      <td>50–92 min</td>\n",
              "      <td>7 seasons</td>\n",
              "      <td>91 episodes</td>\n",
              "    </tr>\n",
              "    <tr>\n",
              "      <th>3</th>\n",
              "      <td>Marco Polo</td>\n",
              "      <td>Historical drama</td>\n",
              "      <td>December 12, 2014</td>\n",
              "      <td>July 1, 2016</td>\n",
              "      <td>2 seasons, 20 episodes</td>\n",
              "      <td>48–65 min</td>\n",
              "      <td>2 seasons</td>\n",
              "      <td>20 episodes</td>\n",
              "    </tr>\n",
              "    <tr>\n",
              "      <th>4</th>\n",
              "      <td>Bloodline</td>\n",
              "      <td>Thriller</td>\n",
              "      <td>March 20, 2015</td>\n",
              "      <td>May 26, 2017</td>\n",
              "      <td>3 seasons, 33 episodes</td>\n",
              "      <td>48–68 min</td>\n",
              "      <td>3 seasons</td>\n",
              "      <td>33 episodes</td>\n",
              "    </tr>\n",
              "  </tbody>\n",
              "</table>\n",
              "</div>\n",
              "      <button class=\"colab-df-convert\" onclick=\"convertToInteractive('df-fb78270d-7776-4850-97e2-e245fd9ed8be')\"\n",
              "              title=\"Convert this dataframe to an interactive table.\"\n",
              "              style=\"display:none;\">\n",
              "        \n",
              "  <svg xmlns=\"http://www.w3.org/2000/svg\" height=\"24px\"viewBox=\"0 0 24 24\"\n",
              "       width=\"24px\">\n",
              "    <path d=\"M0 0h24v24H0V0z\" fill=\"none\"/>\n",
              "    <path d=\"M18.56 5.44l.94 2.06.94-2.06 2.06-.94-2.06-.94-.94-2.06-.94 2.06-2.06.94zm-11 1L8.5 8.5l.94-2.06 2.06-.94-2.06-.94L8.5 2.5l-.94 2.06-2.06.94zm10 10l.94 2.06.94-2.06 2.06-.94-2.06-.94-.94-2.06-.94 2.06-2.06.94z\"/><path d=\"M17.41 7.96l-1.37-1.37c-.4-.4-.92-.59-1.43-.59-.52 0-1.04.2-1.43.59L10.3 9.45l-7.72 7.72c-.78.78-.78 2.05 0 2.83L4 21.41c.39.39.9.59 1.41.59.51 0 1.02-.2 1.41-.59l7.78-7.78 2.81-2.81c.8-.78.8-2.07 0-2.86zM5.41 20L4 18.59l7.72-7.72 1.47 1.35L5.41 20z\"/>\n",
              "  </svg>\n",
              "      </button>\n",
              "      \n",
              "  <style>\n",
              "    .colab-df-container {\n",
              "      display:flex;\n",
              "      flex-wrap:wrap;\n",
              "      gap: 12px;\n",
              "    }\n",
              "\n",
              "    .colab-df-convert {\n",
              "      background-color: #E8F0FE;\n",
              "      border: none;\n",
              "      border-radius: 50%;\n",
              "      cursor: pointer;\n",
              "      display: none;\n",
              "      fill: #1967D2;\n",
              "      height: 32px;\n",
              "      padding: 0 0 0 0;\n",
              "      width: 32px;\n",
              "    }\n",
              "\n",
              "    .colab-df-convert:hover {\n",
              "      background-color: #E2EBFA;\n",
              "      box-shadow: 0px 1px 2px rgba(60, 64, 67, 0.3), 0px 1px 3px 1px rgba(60, 64, 67, 0.15);\n",
              "      fill: #174EA6;\n",
              "    }\n",
              "\n",
              "    [theme=dark] .colab-df-convert {\n",
              "      background-color: #3B4455;\n",
              "      fill: #D2E3FC;\n",
              "    }\n",
              "\n",
              "    [theme=dark] .colab-df-convert:hover {\n",
              "      background-color: #434B5C;\n",
              "      box-shadow: 0px 1px 3px 1px rgba(0, 0, 0, 0.15);\n",
              "      filter: drop-shadow(0px 1px 2px rgba(0, 0, 0, 0.3));\n",
              "      fill: #FFFFFF;\n",
              "    }\n",
              "  </style>\n",
              "\n",
              "      <script>\n",
              "        const buttonEl =\n",
              "          document.querySelector('#df-fb78270d-7776-4850-97e2-e245fd9ed8be button.colab-df-convert');\n",
              "        buttonEl.style.display =\n",
              "          google.colab.kernel.accessAllowed ? 'block' : 'none';\n",
              "\n",
              "        async function convertToInteractive(key) {\n",
              "          const element = document.querySelector('#df-fb78270d-7776-4850-97e2-e245fd9ed8be');\n",
              "          const dataTable =\n",
              "            await google.colab.kernel.invokeFunction('convertToInteractive',\n",
              "                                                     [key], {});\n",
              "          if (!dataTable) return;\n",
              "\n",
              "          const docLinkHtml = 'Like what you see? Visit the ' +\n",
              "            '<a target=\"_blank\" href=https://colab.research.google.com/notebooks/data_table.ipynb>data table notebook</a>'\n",
              "            + ' to learn more about interactive tables.';\n",
              "          element.innerHTML = '';\n",
              "          dataTable['output_type'] = 'display_data';\n",
              "          await google.colab.output.renderOutput(dataTable, element);\n",
              "          const docLink = document.createElement('div');\n",
              "          docLink.innerHTML = docLinkHtml;\n",
              "          element.appendChild(docLink);\n",
              "        }\n",
              "      </script>\n",
              "    </div>\n",
              "  </div>\n",
              "  "
            ]
          },
          "metadata": {},
          "execution_count": 110
        }
      ],
      "source": [
        "#Split Seasons Column into two columns\n",
        "netflix_originals_drama_ds[['Seasons_Only','Episodes']] = netflix_originals_drama_ds['Seasons'].str.split(',',expand=True)\n",
        "netflix_originals_drama_ds.head()"
      ]
    },
    {
      "cell_type": "code",
      "execution_count": null,
      "metadata": {
        "id": "sWzqCbm6r0Yj"
      },
      "outputs": [],
      "source": [
        "#Convert Premiere column to datetime\n",
        "netflix_originals_drama_ds['Premiere'] = pd.to_datetime(netflix_originals_drama_ds['Premiere'])\n",
        "#Convert Finale column to datetime\n",
        "netflix_originals_drama_ds['Finale'] = pd.to_datetime(netflix_originals_drama_ds['Finale'])"
      ]
    },
    {
      "cell_type": "code",
      "execution_count": null,
      "metadata": {
        "colab": {
          "base_uri": "https://localhost:8080/"
        },
        "id": "Q0KONkDJr0Yj",
        "outputId": "b4de2153-8860-48f4-e7e8-296d114c6289"
      },
      "outputs": [
        {
          "output_type": "execute_result",
          "data": {
            "text/plain": [
              "Title                   object\n",
              "Genre                   object\n",
              "Premiere        datetime64[ns]\n",
              "Finale          datetime64[ns]\n",
              "Seasons                 object\n",
              "Runtime                 object\n",
              "Seasons_Only            object\n",
              "Episodes                object\n",
              "dtype: object"
            ]
          },
          "metadata": {},
          "execution_count": 112
        }
      ],
      "source": [
        "#Dtypes of the columns\n",
        "netflix_originals_drama_ds.dtypes"
      ]
    },
    {
      "cell_type": "code",
      "execution_count": null,
      "metadata": {
        "colab": {
          "base_uri": "https://localhost:8080/",
          "height": 350
        },
        "id": "wPoKPVoer0Yj",
        "outputId": "31e90a7f-72be-452c-8ae6-dae5c8d0f332"
      },
      "outputs": [
        {
          "output_type": "display_data",
          "data": {
            "text/plain": [
              "<Figure size 720x360 with 1 Axes>"
            ],
            "image/png": "[encoded data removed]"
          },
          "metadata": {}
        }
      ],
      "source": [
        "#Plot Netflix Originals Drama Seasons\n",
        "netflix_originals_drama_ds['Seasons_Only'].value_counts().plot(kind='barh', figsize=(10,5), color='#E50914')\n",
        "#Labeling\n",
        "plt.title('Netflix Originals - Drama Seasons')\n",
        "plt.xlabel('Count')\n",
        "plt.ylabel('Seasons')\n",
        "plt.show()"
      ]
    },
    {
      "cell_type": "code",
      "execution_count": null,
      "metadata": {
        "colab": {
          "base_uri": "https://localhost:8080/",
          "height": 350
        },
        "id": "gAF8Xyepr0Yj",
        "outputId": "7a13b840-1569-480a-ef09-69385a7e13b5"
      },
      "outputs": [
        {
          "output_type": "display_data",
          "data": {
            "text/plain": [
              "<Figure size 720x360 with 1 Axes>"
            ],
            "image/png": "[encoded data removed]"
          },
          "metadata": {}
        }
      ],
      "source": [
        "#Plot Netflix Originals Drama Episodes\n",
        "netflix_originals_drama_ds['Episodes'].value_counts().plot(kind='barh', figsize=(10,5), color='#E50914')\n",
        "#Label the plot\n",
        "plt.xlabel('Episodes')\n",
        "plt.ylabel('Episodes Count')\n",
        "plt.title('Episodes Count by Netflix Originals - Drama')\n",
        "plt.show()\n"
      ]
    },
    {
      "cell_type": "code",
      "execution_count": null,
      "metadata": {
        "colab": {
          "base_uri": "https://localhost:8080/",
          "height": 358
        },
        "id": "Q_4sSHPHr0Yj",
        "outputId": "628e2f7c-cf17-4bbe-cd91-53bb49d2ae84"
      },
      "outputs": [
        {
          "output_type": "display_data",
          "data": {
            "text/plain": [
              "<Figure size 720x360 with 1 Axes>"
            ],
            "image/png": "[encoded data removed]"
          },
          "metadata": {}
        }
      ],
      "source": [
        "#Plot time series of Premiere and Finale Year\n",
        "netflix_originals_drama_ds['Premiere'].dt.year.value_counts().sort_index().plot(kind='line', figsize=(10,5), color='#E50914').tick_params(axis = 'both', which = 'major', labelsize = 18)\n",
        "\n",
        "#Label the plot\n",
        "plt.xlabel('Premiere Year')\n",
        "plt.ylabel('Premiere Year Count')\n",
        "plt.title('Premiere Year Count by Netflix Originals - Drama')\n",
        "plt.show()"
      ]
    },
    {
      "cell_type": "code",
      "execution_count": null,
      "metadata": {
        "colab": {
          "base_uri": "https://localhost:8080/",
          "height": 350
        },
        "id": "IT4Vy3B7r0Yj",
        "outputId": "91d8c19a-b540-41d4-80c1-b804c66d87fb"
      },
      "outputs": [
        {
          "output_type": "display_data",
          "data": {
            "text/plain": [
              "<Figure size 720x360 with 1 Axes>"
            ],
            "image/png": "[encoded data removed]"
          },
          "metadata": {}
        }
      ],
      "source": [
        "#Plot finale year count by Netflix Originals Drama\n",
        "plot_finale_year = netflix_originals_drama_ds['Finale'].dt.year.value_counts().sort_index().plot(kind='line', figsize=(10,5), color='#E50914')\n",
        "#Label the plot\n",
        "plt.xlabel('Finale Year')\n",
        "plt.ylabel('Finale Year Count')\n",
        "plt.title('Finale Year Count by Netflix Originals - Drama')\n",
        "plt.show()"
      ]
    },
    {
      "cell_type": "markdown",
      "source": [
        "## Number of releases per year for each genre"
      ],
      "metadata": {
        "id": "PllLwdOsa8XJ"
      }
    },
    {
      "cell_type": "code",
      "source": [
        "netflix_ds2 = netflix_ds.listed_in.str.split(',').apply(pd.Series)\n",
        "netflix_ds2.index = netflix_ds.set_index([\"release_year\"]).index\n",
        "netflix_ds2 = netflix_ds2.stack().reset_index([\"release_year\"])\n",
        "netflix_ds2.groupby([\"release_year\", 0])[0].count().sort_values(ascending=False)"
      ],
      "metadata": {
        "colab": {
          "base_uri": "https://localhost:8080/",
          "height": 222
        },
        "id": "G_OQbY0Ra7gf",
        "outputId": "4f481626-d77b-4381-af68-21fb937d3945"
      },
      "execution_count": null,
      "outputs": [
        {
          "output_type": "error",
          "ename": "NameError",
          "evalue": "ignored",
          "traceback": [
            "\u001b[0;31m---------------------------------------------------------------------------\u001b[0m",
            "\u001b[0;31mNameError\u001b[0m                                 Traceback (most recent call last)",
            "\u001b[0;32m<ipython-input-2-4fd7021dfb4f>\u001b[0m in \u001b[0;36m<module>\u001b[0;34m\u001b[0m\n\u001b[0;32m----> 1\u001b[0;31m \u001b[0mnetflix_ds2\u001b[0m \u001b[0;34m=\u001b[0m \u001b[0mnetflix_ds\u001b[0m\u001b[0;34m.\u001b[0m\u001b[0mlisted_in\u001b[0m\u001b[0;34m.\u001b[0m\u001b[0mstr\u001b[0m\u001b[0;34m.\u001b[0m\u001b[0msplit\u001b[0m\u001b[0;34m(\u001b[0m\u001b[0;34m','\u001b[0m\u001b[0;34m)\u001b[0m\u001b[0;34m.\u001b[0m\u001b[0mapply\u001b[0m\u001b[0;34m(\u001b[0m\u001b[0mpd\u001b[0m\u001b[0;34m.\u001b[0m\u001b[0mSeries\u001b[0m\u001b[0;34m)\u001b[0m\u001b[0;34m\u001b[0m\u001b[0;34m\u001b[0m\u001b[0m\n\u001b[0m\u001b[1;32m      2\u001b[0m \u001b[0mnetflix_ds2\u001b[0m\u001b[0;34m.\u001b[0m\u001b[0mindex\u001b[0m \u001b[0;34m=\u001b[0m \u001b[0mnetflix_ds\u001b[0m\u001b[0;34m.\u001b[0m\u001b[0mset_index\u001b[0m\u001b[0;34m(\u001b[0m\u001b[0;34m[\u001b[0m\u001b[0;34m\"release_year\"\u001b[0m\u001b[0;34m]\u001b[0m\u001b[0;34m)\u001b[0m\u001b[0;34m.\u001b[0m\u001b[0mindex\u001b[0m\u001b[0;34m\u001b[0m\u001b[0;34m\u001b[0m\u001b[0m\n\u001b[1;32m      3\u001b[0m \u001b[0mnetflix_ds2\u001b[0m \u001b[0;34m=\u001b[0m \u001b[0mnetflix_ds2\u001b[0m\u001b[0;34m.\u001b[0m\u001b[0mstack\u001b[0m\u001b[0;34m(\u001b[0m\u001b[0;34m)\u001b[0m\u001b[0;34m.\u001b[0m\u001b[0mreset_index\u001b[0m\u001b[0;34m(\u001b[0m\u001b[0;34m[\u001b[0m\u001b[0;34m\"release_year\"\u001b[0m\u001b[0;34m]\u001b[0m\u001b[0;34m)\u001b[0m\u001b[0;34m\u001b[0m\u001b[0;34m\u001b[0m\u001b[0m\n\u001b[1;32m      4\u001b[0m \u001b[0mnetflix_ds2\u001b[0m\u001b[0;34m.\u001b[0m\u001b[0mgroupby\u001b[0m\u001b[0;34m(\u001b[0m\u001b[0;34m[\u001b[0m\u001b[0;34m\"release_year\"\u001b[0m\u001b[0;34m,\u001b[0m \u001b[0;36m0\u001b[0m\u001b[0;34m]\u001b[0m\u001b[0;34m)\u001b[0m\u001b[0;34m[\u001b[0m\u001b[0;36m0\u001b[0m\u001b[0;34m]\u001b[0m\u001b[0;34m.\u001b[0m\u001b[0mcount\u001b[0m\u001b[0;34m(\u001b[0m\u001b[0;34m)\u001b[0m\u001b[0;34m.\u001b[0m\u001b[0msort_values\u001b[0m\u001b[0;34m(\u001b[0m\u001b[0mascending\u001b[0m\u001b[0;34m=\u001b[0m\u001b[0;32mFalse\u001b[0m\u001b[0;34m)\u001b[0m\u001b[0;34m\u001b[0m\u001b[0;34m\u001b[0m\u001b[0m\n",
            "\u001b[0;31mNameError\u001b[0m: name 'netflix_ds' is not defined"
          ]
        }
      ]
    },
    {
      "cell_type": "markdown",
      "source": [
        "## Rating distribution for movies and TV shows per countries"
      ],
      "metadata": {
        "id": "pi7bCpcha_XS"
      }
    },
    {
      "cell_type": "code",
      "source": [
        "#Movie\n",
        "#netflix_ds.groupby([\"country\", \"rating\"])[\"country\"].count()\n",
        "\n",
        "netflix_ds3 = netflix_ds.country.str.split(',').apply(pd.Series)\n",
        "netflix_ds3.index = netflix_ds.set_index(['rating', 'type']).index\n",
        "netflix_ds3 = netflix_ds3.stack().reset_index(['rating', 'type'])\n",
        "netflix_ds3 = netflix_ds3.groupby([0, \"type\"])[\"rating\"].count().sort_values(ascending=False)\n",
        "netflix_ds3\n",
        "#netflix_ds3[netflix_ds3[\"type\"]== \"Movie\"]\n",
        "#netflix_ds3.loc[movie]\n",
        "#type(netflix_ds3)"
      ],
      "metadata": {
        "colab": {
          "base_uri": "https://localhost:8080/",
          "height": 240
        },
        "id": "ZUMsrUmNa_hM",
        "outputId": "ac1d5178-34a7-4bd4-ba6a-bfc4b8c35d26"
      },
      "execution_count": null,
      "outputs": [
        {
          "output_type": "error",
          "ename": "NameError",
          "evalue": "ignored",
          "traceback": [
            "\u001b[0;31m---------------------------------------------------------------------------\u001b[0m",
            "\u001b[0;31mNameError\u001b[0m                                 Traceback (most recent call last)",
            "\u001b[0;32m<ipython-input-1-07da0eb2f330>\u001b[0m in \u001b[0;36m<module>\u001b[0;34m\u001b[0m\n\u001b[1;32m      2\u001b[0m \u001b[0;31m#netflix_ds.groupby([\"country\", \"rating\"])[\"country\"].count()\u001b[0m\u001b[0;34m\u001b[0m\u001b[0;34m\u001b[0m\u001b[0;34m\u001b[0m\u001b[0m\n\u001b[1;32m      3\u001b[0m \u001b[0;34m\u001b[0m\u001b[0m\n\u001b[0;32m----> 4\u001b[0;31m \u001b[0mnetflix_ds3\u001b[0m \u001b[0;34m=\u001b[0m \u001b[0mnetflix_ds\u001b[0m\u001b[0;34m.\u001b[0m\u001b[0mcountry\u001b[0m\u001b[0;34m.\u001b[0m\u001b[0mstr\u001b[0m\u001b[0;34m.\u001b[0m\u001b[0msplit\u001b[0m\u001b[0;34m(\u001b[0m\u001b[0;34m','\u001b[0m\u001b[0;34m)\u001b[0m\u001b[0;34m.\u001b[0m\u001b[0mapply\u001b[0m\u001b[0;34m(\u001b[0m\u001b[0mpd\u001b[0m\u001b[0;34m.\u001b[0m\u001b[0mSeries\u001b[0m\u001b[0;34m)\u001b[0m\u001b[0;34m\u001b[0m\u001b[0;34m\u001b[0m\u001b[0m\n\u001b[0m\u001b[1;32m      5\u001b[0m \u001b[0mnetflix_ds3\u001b[0m\u001b[0;34m.\u001b[0m\u001b[0mindex\u001b[0m \u001b[0;34m=\u001b[0m \u001b[0mnetflix_ds\u001b[0m\u001b[0;34m.\u001b[0m\u001b[0mset_index\u001b[0m\u001b[0;34m(\u001b[0m\u001b[0;34m[\u001b[0m\u001b[0;34m'rating'\u001b[0m\u001b[0;34m,\u001b[0m \u001b[0;34m'type'\u001b[0m\u001b[0;34m]\u001b[0m\u001b[0;34m)\u001b[0m\u001b[0;34m.\u001b[0m\u001b[0mindex\u001b[0m\u001b[0;34m\u001b[0m\u001b[0;34m\u001b[0m\u001b[0m\n\u001b[1;32m      6\u001b[0m \u001b[0mnetflix_ds3\u001b[0m \u001b[0;34m=\u001b[0m \u001b[0mnetflix_ds3\u001b[0m\u001b[0;34m.\u001b[0m\u001b[0mstack\u001b[0m\u001b[0;34m(\u001b[0m\u001b[0;34m)\u001b[0m\u001b[0;34m.\u001b[0m\u001b[0mreset_index\u001b[0m\u001b[0;34m(\u001b[0m\u001b[0;34m[\u001b[0m\u001b[0;34m'rating'\u001b[0m\u001b[0;34m,\u001b[0m \u001b[0;34m'type'\u001b[0m\u001b[0;34m]\u001b[0m\u001b[0;34m)\u001b[0m\u001b[0;34m\u001b[0m\u001b[0;34m\u001b[0m\u001b[0m\n",
            "\u001b[0;31mNameError\u001b[0m: name 'netflix_ds' is not defined"
          ]
        }
      ]
    },
    {
      "cell_type": "markdown",
      "source": [
        "## Which director has produced the most movies"
      ],
      "metadata": {
        "id": "3vfPg7MkbKZK"
      }
    },
    {
      "cell_type": "code",
      "source": [
        "netflix_ds.groupby([\"director\"])[\"title\"].count().sort_values(ascending=False)"
      ],
      "metadata": {
        "colab": {
          "base_uri": "https://localhost:8080/",
          "height": 169
        },
        "id": "vHtOwE5kbJ1X",
        "outputId": "02950735-61c1-4a73-b14c-396087cf0cbc"
      },
      "execution_count": null,
      "outputs": [
        {
          "output_type": "error",
          "ename": "NameError",
          "evalue": "ignored",
          "traceback": [
            "\u001b[0;31m---------------------------------------------------------------------------\u001b[0m",
            "\u001b[0;31mNameError\u001b[0m                                 Traceback (most recent call last)",
            "\u001b[0;32m<ipython-input-3-284baaba5e42>\u001b[0m in \u001b[0;36m<module>\u001b[0;34m\u001b[0m\n\u001b[0;32m----> 1\u001b[0;31m \u001b[0mnetflix_ds\u001b[0m\u001b[0;34m.\u001b[0m\u001b[0mgroupby\u001b[0m\u001b[0;34m(\u001b[0m\u001b[0;34m[\u001b[0m\u001b[0;34m\"director\"\u001b[0m\u001b[0;34m]\u001b[0m\u001b[0;34m)\u001b[0m\u001b[0;34m[\u001b[0m\u001b[0;34m\"title\"\u001b[0m\u001b[0;34m]\u001b[0m\u001b[0;34m.\u001b[0m\u001b[0mcount\u001b[0m\u001b[0;34m(\u001b[0m\u001b[0;34m)\u001b[0m\u001b[0;34m.\u001b[0m\u001b[0msort_values\u001b[0m\u001b[0;34m(\u001b[0m\u001b[0mascending\u001b[0m\u001b[0;34m=\u001b[0m\u001b[0;32mFalse\u001b[0m\u001b[0;34m)\u001b[0m\u001b[0;34m\u001b[0m\u001b[0;34m\u001b[0m\u001b[0m\n\u001b[0m",
            "\u001b[0;31mNameError\u001b[0m: name 'netflix_ds' is not defined"
          ]
        }
      ]
    },
    {
      "cell_type": "code",
      "source": [],
      "metadata": {
        "id": "fjeldPfngqVf"
      },
      "execution_count": null,
      "outputs": []
    },
    {
      "cell_type": "markdown",
      "metadata": {
        "id": "96kkYfTsuKVc"
      },
      "source": [
        "# **<span id=\"Conclusion\" style=\"color:#023e8a;\">Conclusion</span>**\n",
        "\n",
        "Conclusion"
      ]
    },
    {
      "cell_type": "markdown",
      "metadata": {
        "id": "uSDXR2HAuOq3"
      },
      "source": [
        "# **<span id=\"References\" style=\"color:#023e8a;\">References</span>**\n",
        "\n",
        "References\n",
        "\n",
        "\n",
        "*  https://medium.com/analytics-vidhya/web-scraping-a-wikipedia-table-into-a-dataframe-c52617e1f451\n",
        "*  https://www.dataquest.io/blog/making-538-plots/\n",
        "*  https://www.analyticsvidhya.com/blog/2021/06/how-to-load-kaggle-datasets-directly-into-google-colab/\n",
        "*  https://www.kaggle.com/general/51898\n",
        "*  https://www.imdb.com/\n",
        "\n",
        "\n"
      ]
    }
  ],
  "metadata": {
    "colab": {
      "collapsed_sections": [
        "GC9e54zS0-WK",
        "bwco-n7fr0Yi",
        "1YQT__n3r0Yj",
        "PllLwdOsa8XJ",
        "pi7bCpcha_XS"
      ],
      "provenance": [],
      "toc_visible": true,
      "include_colab_link": true
    },
    "kernelspec": {
      "display_name": "Python 3 (ipykernel)",
      "language": "python",
      "name": "python3"
    },
    "language_info": {
      "codemirror_mode": {
        "name": "ipython",
        "version": 3
      },
      "file_extension": ".py",
      "mimetype": "text/x-python",
      "name": "python",
      "nbconvert_exporter": "python",
      "pygments_lexer": "ipython3",
      "version": "3.9.13"
    }
  },
  "nbformat": 4,
  "nbformat_minor": 0
}